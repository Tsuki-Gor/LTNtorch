{
 "cells": [
  {
   "cell_type": "markdown",
   "source": [
    "## Regression\n",
    "\n",
    "Another important problem in Machine Learning is regression, where a relationship is estimated between one independent variable $X$ and a continuous dependent variable $Y$.\n",
    "The essence of regression is, therefore, to approximate a function $f(x) = y$ by a function $f^*$, given examples $(x_i, y_i)$ such that $f(x_i) = y_i$.\n",
    "\n",
    "In LTN one can model a regression task by defining $f^*$ as a learnable function whose parameter values $\\theta$ are\n",
    "constrained by data. Additionally, a regression task requires a notion of *equality*. We therefore define the\n",
    "predicate $Eq$ as a smooth version of the symbol $=$ in order to turn the constraint $f(x_i) = y_i$ into a smooth\n",
    "optimization problem.\n",
    "\n",
    "In this example, we explore regression using a problem from a real estate dataset with 414 examples, each described in\n",
    "terms of 6 real-numbered features:\n",
    "- the transaction date (converted to a float);\n",
    "- the age of the house;\n",
    "- the distance to the nearest station;\n",
    "- the number of convenience stores in the vicinity;\n",
    "- the latitude and longitude coordinates.\n",
    "\n",
    "The model has to predict the house price given these features in input.\n",
    "\n",
    "For this specific task, LTN uses the following language and grounding:\n",
    "\n",
    "**Domains:**\n",
    "- $samples$, denoting the houses and their features;\n",
    "- $prices$, denoting the house prices.\n",
    "\n",
    "**Variables:**\n",
    "- $x$ for the samples;\n",
    "- $y$ for the prices;\n",
    "- $D(x) = samples$;\n",
    "- $D(y) = prices$.\n",
    "\n",
    "**Functions:**\n",
    "- $f^*(x)$: the regression function that has to be learned;\n",
    "- $D_{in}(f^*) = samples$;\n",
    "- $D_{out}(f^*) = prices$, where $D_{out}(.)$ is a function which returns the domain of the output of a given logical\n",
    "function.\n",
    "\n",
    "**Predicates:**\n",
    "- $Eq(y_1, y_2)$: a smooth equality predicate which measures how similar $y_1$ and $y_2$ are;\n",
    "- $D_{in}(Eq) = prices, prices$.\n",
    "\n",
    "**Axioms:**\n",
    "\n",
    "- $\\forall Diag(x,y) \\text{ } Eq(f^*(x), y)$: the output of $f^*$ should be equal to the ground truth $y$ for each\n",
    "example $x$ given in input.\n",
    "\n",
    "Notice again the use of $Diag$: when grounding $x$ and $y$ onto sequences of values, this is done by obeying a\n",
    "one-to-one correspondence between the sequences. In other words, we aggregate pairs of corresponding samples and prices,\n",
    "instead of any combination thereof.\n",
    "\n",
    "\n",
    "**Grounding:**\n",
    "- $\\mathcal{G}(samples)=\\mathbb{R}^{6}$, samples are described by 6 features;\n",
    "- $\\mathcal{G}(prices)=\\mathbb{R}$;\n",
    "- $\\mathcal{G}(x) \\in \\mathbb{R}^{m \\times 6}, \\mathcal{G}(y) \\in \\mathbb{R}^{m \\times 1}$. Notice that this specification\n",
    "refers to the same number $m$ of examples for $x$ and $y$ due to the above one-to-one correspondence\n",
    "obtained with the use of $Diag$;\n",
    "- $\\mathcal{G}(\\mathrm{eq}(\\mathbf{u}, \\mathbf{v}))=\\exp \\left(-\\alpha \\sqrt{\\sum_{j}\\left(u_{j}-v_{j}\\right)^{2}}\\right)$,\n",
    "where the hyper-parameter $\\alpha$ is a real number that scales how strict the smooth equality is. In this example, we use\n",
    "$\\alpha = 0.05$. Intuitively, the smooth equality is $\\operatorname{exp}(- \\alpha d(\\mathbf{u}, \\mathbf{v}))$, where\n",
    "$d(\\mathbf{u}, \\mathbf{v})$ is the Euclidean distance between $\\mathbf{u}$ and $\\mathbf{v}$. It produces a 1 if the\n",
    "distance is zero; as the distance increases, the result decreases exponentially towards 0. In our example, $\\mathbf{u}$\n",
    "will be a vector containing the results of $f^*$ for $j$ samples, while $\\mathbf{v}$ will contain the ground truths\n",
    "associated to the $j$ samples. Our objective is to maximize the truth degree of this predicate;\n",
    "- $\\mathcal{G}(f^*(x) \\mid \\theta): \\operatorname{MLP}_{\\theta}(x)$, where $MLP_{\\theta}$\n",
    "is a Multi-Layer Perceptron which ends in one neuron corresponding to a price prediction (linear activation).\n",
    "\n",
    "### Dataset\n",
    "\n",
    "Now, let's import the dataset.\n",
    "\n",
    "The real estate dataset has 414 examples with 6 features each. We subdivide the dataset into 330 training examples and\n",
    "84 test examples."
   ],
   "metadata": {
    "collapsed": false
   }
  },
  {
   "metadata": {},
   "cell_type": "markdown",
   "source": [
    "## 回归\n",
    "\n",
    "机器学习中的另一个重要问题是回归，即估计一个自变量 $X$ 与一个连续因变量 $Y$ 之间的关系。\n",
    "回归的本质是通过给定的样本 $(x_i, y_i)$ 来逼近一个函数 $f(x) = y$，从而得到一个函数 $f^*$。\n",
    "\n",
    "在LTN中，可以将回归任务建模为一个可学习的函数 $f^*$，其参数 $\\theta$ 由数据约束。此外，回归任务需要“等式”的概念，因此我们定义了谓词 $Eq$ 作为符号 $=$ 的平滑版本，以将约束 $f(x_i) = y_i$ 转化为平滑的优化问题。\n",
    "\n",
    "在这个例子中，我们使用一个房地产数据集，其中包含414个样本，每个样本有6个实数特征：\n",
    "- 交易日期（转换为浮点数）；\n",
    "- 房龄；\n",
    "- 距离最近车站的距离；\n",
    "- 附近便利店的数量；\n",
    "- 经度和纬度坐标。\n",
    "\n",
    "模型需要根据这些特征预测房价。\n",
    "\n",
    "对于这个特定任务，LTN使用以下语言和基础：\n",
    "\n",
    "**域：**\n",
    "- $samples$，表示房屋及其特征；\n",
    "- $prices$，表示房价。\n",
    "\n",
    "**变量：**\n",
    "- $x$ 代表样本；\n",
    "- $y$ 代表价格；\n",
    "- $D(x) = samples$；\n",
    "- $D(y) = prices$。\n",
    "\n",
    "**函数：**\n",
    "- $f^*(x)$：需要学习的回归函数；\n",
    "- $D_{in}(f^*) = samples$；\n",
    "- $D_{out}(f^*) = prices$，其中 $D_{out}(.)$ 是一个返回给定逻辑函数输出域的函数。\n",
    "\n",
    "**谓词：**\n",
    "- $Eq(y_1, y_2)$：一个平滑等式谓词，用于衡量 $y_1$ 和 $y_2$ 的相似度；\n",
    "- $D_{in}(Eq) = prices, prices$。\n",
    "\n",
    "**公理：**\n",
    "\n",
    "- $\\forall Diag(x,y) \\text{ } Eq(f^*(x), y)$：对于每个输入样本 $x$，$f^*$ 的输出应该等于真实值 $y$。\n",
    "\n",
    "请注意，使用 $Diag$ 时，将 $x$ 和 $y$ 接地到一对一对应的值序列上。换句话说，我们聚合对应样本和价格的对，而不是任何组合。\n",
    "\n",
    "**接地：**\n",
    "- $\\mathcal{G}(samples)=\\mathbb{R}^{6}$，样本由6个特征描述；\n",
    "- $\\mathcal{G}(prices)=\\mathbb{R}$；\n",
    "- $\\mathcal{G}(x) \\in \\mathbb{R}^{m \\times 6}, \\mathcal{G}(y) \\in \\mathbb{R}^{m \\times 1}$。由于上述 $Diag$ 的使用，这个说明指的是相同数量的样本 $m$；\n",
    "- $\\mathcal{G}(\\mathrm{eq}(\\mathbf{u}, \\mathbf{v}))=\\exp \\left(-\\alpha \\sqrt{\\sum_{j}\\left(u_{j}-v_{j}\\right)^{2}}\\right)$，其中超参数 $\\alpha$ 是一个调整平滑等式严格程度的实数。在这个例子中，我们使用 $\\alpha = 0.05$。直观上，平滑等式是 $\\operatorname{exp}(- \\alpha d(\\mathbf{u}, \\mathbf{v}))$，其中 $d(\\mathbf{u}, \\mathbf{v})$ 是 $\\mathbf{u}$ 和 $\\mathbf{v}$ 之间的欧氏距离。如果距离为零，则结果为1；随着距离增加，结果指数级减小到0。在我们的例子中，$\\mathbf{u}$ 是包含 $f^*$ 对 $j$ 个样本结果的向量，而 $\\mathbf{v}$ 包含与 $j$ 个样本相关的真实值。我们的目标是最大化这个谓词的真值度；\n",
    "- $\\mathcal{G}(f^*(x) \\mid \\theta): \\operatorname{MLP}_{\\theta}(x)$，其中 $MLP_{\\theta}$ 是一个多层感知器，以一个对应于价格预测的神经元（线性激活）结束。\n",
    "\n",
    "### 数据集\n",
    "\n",
    "现在，让我们导入数据集。\n",
    "\n",
    "房地产数据集有414个样本，每个样本有6个特征。我们将数据集分为330个训练样本和84个测试样本。"
   ]
  },
  {
   "cell_type": "code",
   "source": [
    "import torch\n",
    "import pandas as pd\n",
    "\n",
    "data = pd.read_csv(\"datasets/real-estate.csv\")\n",
    "data = data.sample(frac=1)  # shuffle # 打乱数据\n",
    "\n",
    "x = torch.tensor(data[['X1 transaction date', 'X2 house age',\n",
    "                     'X3 distance to the nearest MRT station',\n",
    "                     'X4 number of convenience stores', 'X5 latitude', 'X6 longitude']].to_numpy()).float()\n",
    "\n",
    "y = torch.tensor(data[['Y house price of unit area']].to_numpy()).float()\n",
    "\n",
    "x_train, y_train = x[:330], y[:330]\n",
    "x_test, y_test = x[330:], y[330:]"
   ],
   "metadata": {
    "collapsed": false,
    "pycharm": {
     "name": "#%%\n"
    },
    "ExecuteTime": {
     "end_time": "2024-08-07T11:40:44.229702Z",
     "start_time": "2024-08-07T11:40:41.230303Z"
    }
   },
   "outputs": [
    {
     "name": "stderr",
     "output_type": "stream",
     "text": [
      "C:\\Users\\mircocrift\\AppData\\Local\\Temp\\ipykernel_26336\\2773598670.py:2: DeprecationWarning: \n",
      "Pyarrow will become a required dependency of pandas in the next major release of pandas (pandas 3.0),\n",
      "(to allow more performant data types, such as the Arrow string type, and better interoperability with other libraries)\n",
      "but was not found to be installed on your system.\n",
      "If this would cause problems for you,\n",
      "please provide us feedback at https://github.com/pandas-dev/pandas/issues/54466\n",
      "        \n",
      "  import pandas as pd\n"
     ]
    }
   ],
   "execution_count": 1
  },
  {
   "cell_type": "markdown",
   "source": [
    "### LTN setting\n",
    "\n",
    "In order to define our knowledge base (axioms), we need to define function $f$, predicate $Eq$,\n",
    "universal quantifier, and the `SatAgg` operator.\n",
    "\n",
    "For the quantifier, we use the stable product configuration (seen in the tutorials).\n",
    "\n",
    "For function $f$, we use a simple $MLP$ with two hidden layers.\n",
    "\n",
    "For predicate $Eq$, we use a lambda function which implements the *grounding* defined above.\n",
    "\n",
    "`SatAgg` is defined using the `pMeanError` aggregator."
   ],
   "metadata": {
    "collapsed": false
   }
  },
  {
   "metadata": {},
   "cell_type": "markdown",
   "source": [
    "### LTN 设置\n",
    "\n",
    "为了定义我们的知识库（公理），我们需要定义函数 $ f $、谓词 $ Eq $、全称量词和 `SatAgg` 运算符。\n",
    "\n",
    "对于量词，我们使用稳定乘积配置（在教程中可以看到）。\n",
    "\n",
    "对于函数 $ f $，我们使用一个简单的具有两个隐藏层的多层感知器（MLP）。\n",
    "\n",
    "对于谓词 $ Eq $，我们使用一个实现上述*基础化*定义的 lambda 函数。\n",
    "\n",
    "`SatAgg` 使用 `pMeanError` 聚合器定义。"
   ]
  },
  {
   "cell_type": "code",
   "source": [
    "import ltn\n",
    "\n",
    "# we define function f # 定义函数 f\n",
    "class MLP(torch.nn.Module):\n",
    "    \"\"\"\n",
    "    This model returns the prediction of the price of an house given in input. The output is linear since we are applying the model to a regression problem.\n",
    "    这个模型返回输入的房屋价格预测。由于我们将模型应用于回归问题，因此输出是线性的。\n",
    "    \"\"\"\n",
    "    def __init__(self, layer_sizes=(6, 8, 8, 1)):\n",
    "        super(MLP, self).__init__()\n",
    "        self.elu = torch.nn.ELU()\n",
    "        self.linear_layers = torch.nn.ModuleList([torch.nn.Linear(layer_sizes[i - 1], layer_sizes[i])\n",
    "                                                  for i in range(1, len(layer_sizes))])\n",
    "\n",
    "    def forward(self, x):\n",
    "        \"\"\"\n",
    "        Method which defines the forward phase of the neural network for our regression task.\n",
    "\n",
    "        :param x: the features of the example\n",
    "        :return: prediction for example x\n",
    "        定义神经网络前向传播阶段的方法，用于我们的回归任务。\n",
    "\n",
    "        :param x: 示例的特征\n",
    "        :return: 对示例 x 的预测\n",
    "        \"\"\"\n",
    "        for layer in self.linear_layers[:-1]:\n",
    "            x = self.elu(layer(x))\n",
    "        out = self.linear_layers[-1](x)\n",
    "        return out\n",
    "\n",
    "# f = ltn.Function(MLP().to(ltn.device)) # 原来的代码会报错\n",
    "f = ltn.Function(MLP().to(ltn.device))\n",
    "\n",
    "# Equality Predicate - not trainable # 等式谓词 - 不可训练\n",
    "alpha = 0.05\n",
    "Eq = ltn.Predicate(func=lambda u, v: torch.exp(\n",
    "    -alpha * torch.sqrt(torch.sum(torch.square(u - v), dim=1)))\n",
    ")\n",
    "\n",
    "# we define the universal quantifier and the SatAgg operator # 定义全称量词和 SatAgg 运算符\n",
    "Forall = ltn.Quantifier(ltn.fuzzy_ops.AggregPMeanError(p=2), quantifier=\"f\")\n",
    "SatAgg = ltn.fuzzy_ops.SatAgg()"
   ],
   "metadata": {
    "collapsed": false,
    "pycharm": {
     "name": "#%%\n"
    },
    "ExecuteTime": {
     "end_time": "2024-08-07T11:43:51.300805Z",
     "start_time": "2024-08-07T11:43:51.131807Z"
    }
   },
   "outputs": [],
   "execution_count": 3
  },
  {
   "cell_type": "markdown",
   "source": [
    "### Utils\n",
    "\n",
    "Now, we need to define some utility classes and functions.\n",
    "\n",
    "We define a standard PyTorch data loader, which takes as input the dataset and returns a generator of batches of data.\n",
    "In particular, we need a data loader instance for training data and one for testing data.\n",
    "\n",
    "Then, we define functions to evaluate the model performances. The model is evaluated on the test set using the following metrics:\n",
    "- the satisfaction level of the knowledge base: measure the ability of LTN to satisfy the knowledge;\n",
    "- the RMSE (Root Mean Squared Error): measure the quality of the predictions."
   ],
   "metadata": {
    "collapsed": false
   }
  },
  {
   "metadata": {},
   "cell_type": "markdown",
   "source": [
    "### 工具类\n",
    "\n",
    "现在，我们需要定义一些实用的类和函数。\n",
    "\n",
    "我们定义了一个标准的 PyTorch 数据加载器，它以数据集为输入并返回数据批次的生成器。\n",
    "特别地，我们需要为训练数据和测试数据各定义一个数据加载器实例。\n",
    "\n",
    "然后，我们定义了评估模型性能的函数。模型在测试集上使用以下指标进行评估：\n",
    "- 知识库的满意度：衡量 LTN 满足知识的能力；\n",
    "- 均方根误差 (RMSE)：衡量预测质量。"
   ]
  },
  {
   "cell_type": "code",
   "source": [
    "import numpy as np\n",
    "from sklearn.metrics import mean_squared_error\n",
    "\n",
    "# this is a standard PyTorch DataLoader to load the dataset for the training and testing of the model # 这是一个标准的 PyTorch DataLoader，用于加载数据集以训练和测试模型\n",
    "class DataLoader(object):\n",
    "    def __init__(self,\n",
    "                 x,\n",
    "                 y,\n",
    "                 batch_size=1,\n",
    "                 shuffle=True):\n",
    "        self.x = x\n",
    "        self.y = y\n",
    "        self.batch_size = batch_size\n",
    "        self.shuffle = shuffle\n",
    "\n",
    "    def __len__(self):\n",
    "        return int(np.ceil(self.x.shape[0] / self.batch_size))\n",
    "\n",
    "    def __iter__(self):\n",
    "        n = self.x.shape[0]\n",
    "        idxlist = list(range(n))\n",
    "        if self.shuffle:\n",
    "            np.random.shuffle(idxlist)\n",
    "\n",
    "        for _, start_idx in enumerate(range(0, n, self.batch_size)):\n",
    "            end_idx = min(start_idx + self.batch_size, n)\n",
    "            x = self.x[idxlist[start_idx:end_idx]]\n",
    "            y = self.y[idxlist[start_idx:end_idx]]\n",
    "\n",
    "            yield x, y\n",
    "\n",
    "# define metrics for evaluation of the model # 定义用于评估模型的指标\n",
    "\n",
    "# it computes the overall satisfaction level on the knowledge base using the given data loader (train or test) # 使用给定的数据加载器（训练或测试）计算知识库的整体满意度水平\n",
    "def compute_sat_level(loader):\n",
    "    mean_sat = 0\n",
    "    for x_data, y_data in loader:\n",
    "        x = ltn.Variable(\"x\", x_data)\n",
    "        y = ltn.Variable(\"y\", y_data)\n",
    "        mean_sat += Forall(ltn.diag(x, y), Eq(f(x), y)).value\n",
    "    mean_sat /= len(loader)\n",
    "    return mean_sat\n",
    "\n",
    "# it computes the overall RMSE between the predictions and the ground truth, using the given data loader (train or test) # 使用给定的数据加载器（训练或测试）计算预测和真实值之间的整体 RMSE\n",
    "def compute_rmse(loader):\n",
    "    mean_rmse = 0.0\n",
    "    for x, y in loader:\n",
    "        # predictions = f.model(x).detach().numpy() # 原来的代码会报错\n",
    "        predictions = f.model(x.to(ltn.device)).detach().cpu().numpy()\n",
    "        mean_rmse += mean_squared_error(y, predictions, squared=False)\n",
    "    return mean_rmse / len(loader)\n",
    "\n",
    "# create train and test loader # 创建训练和测试加载器\n",
    "train_loader = DataLoader(x_train, y_train, 64, shuffle=True)\n",
    "test_loader = DataLoader(x_test, y_test, 64, shuffle=False)"
   ],
   "metadata": {
    "collapsed": false,
    "pycharm": {
     "name": "#%%\n"
    },
    "ExecuteTime": {
     "end_time": "2024-08-07T11:53:17.160180Z",
     "start_time": "2024-08-07T11:53:17.151401Z"
    }
   },
   "outputs": [],
   "execution_count": 8
  },
  {
   "cell_type": "markdown",
   "source": [
    "### Learning\n",
    "\n",
    "Let us define $D$ the data set of all examples. The objective function with $\\mathcal{K}=\\{\\forall Diag(x,y) \\text{ } Eq(f^*(x), y)\\}$\n",
    "is given by $\\operatorname{SatAgg}_{\\phi \\in \\mathcal{K}} \\mathcal{G}_{\\boldsymbol{\\theta}, x \\leftarrow \\boldsymbol{D}}(\\phi)$.\n",
    "\n",
    "In practice, the optimizer uses the following loss function:\n",
    "\n",
    "$\\boldsymbol{L}=\\left(1-\\underset{\\phi \\in \\mathcal{K}}{\\operatorname{SatAgg}} \\mathcal{G}_{\\boldsymbol{\\theta}, x \\leftarrow \\boldsymbol{B}}(\\phi)\\right)$\n",
    "\n",
    "where $B$ is a mini batch sampled from $D$.\n",
    "\n",
    "In the following, we learn our LTN in the regression task using the satisfaction of the knowledge base as\n",
    "an objective. In other words, we want to learn the parameters $\\theta$ of function $f^*$ in such a way the only\n",
    "axiom in the knowledge base is maximally satisfied. We train our model for 500 epochs and use the `Adam` optimizer."
   ],
   "metadata": {
    "collapsed": false
   }
  },
  {
   "metadata": {},
   "cell_type": "markdown",
   "source": [
    "### 学习\n",
    "\n",
    "让我们定义 $D$ 为所有示例的数据集。目标函数用 $\\mathcal{K}=\\{\\forall Diag(x,y) \\text{ } Eq(f^*(x), y)\\}$ 表示，给出为 $\\operatorname{SatAgg}_{\\phi \\in \\mathcal{K}} \\mathcal{G}_{\\boldsymbol{\\theta}, x \\leftarrow \\boldsymbol{D}}(\\phi)$。\n",
    "\n",
    "实际上，优化器使用以下损失函数：\n",
    "\n",
    "$$\n",
    "\\boldsymbol{L}=\\left(1-\\underset{\\phi \\in \\mathcal{K}}{\\operatorname{SatAgg}} \\mathcal{G}_{\\boldsymbol{\\theta}, x \\leftarrow \\boldsymbol{B}}(\\phi)\\right)\n",
    "$$\n",
    "\n",
    "其中 $B$ 是从 $D$ 中采样的小批量。\n",
    "\n",
    "在下文中，我们在回归任务中使用知识库的满意度作为目标来学习我们的 LTN。换句话说，我们希望学习函数 $f^*$ 的参数 $\\theta$，以使知识库中的唯一公理得到最大程度的满足。我们训练模型500个周期，使用 `Adam` 优化器。"
   ]
  },
  {
   "cell_type": "code",
   "source": [
    "optimizer = torch.optim.Adam(f.parameters(), lr=0.0005)\n",
    "\n",
    "for epoch in range(500):\n",
    "    train_loss = 0.0\n",
    "    for batch_idx, (x_data, y_data) in enumerate(train_loader):\n",
    "        optimizer.zero_grad()\n",
    "        # ground the variables with current batch of data # 使用当前数据批次接地变量\n",
    "        x = ltn.Variable(\"x\", x_data)  # samples # 样本\n",
    "        y = ltn.Variable(\"y\", y_data)  # ground truths # 真实值\n",
    "        sat_agg = Forall(ltn.diag(x, y), Eq(f(x), y)).value\n",
    "        loss = 1. - sat_agg\n",
    "        loss.backward()\n",
    "        optimizer.step()\n",
    "        train_loss += loss.item()\n",
    "    train_loss = train_loss / len(train_loader)\n",
    "\n",
    "    # we print metrics every 50 epochs of training # 我们在每50个训练周期打印指标\n",
    "    if epoch % 50 == 0:\n",
    "        print(\" epoch %d | loss %.4f | Train Sat %.3f | Test Sat %.3f | Train RMSE %.3f | Test RMSE %.3f \" %\n",
    "              (epoch, train_loss, compute_sat_level(train_loader), compute_sat_level(test_loader),\n",
    "                    compute_rmse(train_loader), compute_rmse(test_loader)))"
   ],
   "metadata": {
    "collapsed": false,
    "pycharm": {
     "name": "#%%\n"
    },
    "ExecuteTime": {
     "end_time": "2024-08-07T11:53:30.625715Z",
     "start_time": "2024-08-07T11:53:19.086391Z"
    }
   },
   "outputs": [
    {
     "name": "stderr",
     "output_type": "stream",
     "text": [
      "D:\\My_Software\\Anaconda_my_env\\deeplearning_pytorch\\Lib\\site-packages\\sklearn\\metrics\\_regression.py:492: FutureWarning: 'squared' is deprecated in version 1.4 and will be removed in 1.6. To calculate the root mean squared error, use the function'root_mean_squared_error'.\n",
      "  warnings.warn(\n",
      "D:\\My_Software\\Anaconda_my_env\\deeplearning_pytorch\\Lib\\site-packages\\sklearn\\metrics\\_regression.py:492: FutureWarning: 'squared' is deprecated in version 1.4 and will be removed in 1.6. To calculate the root mean squared error, use the function'root_mean_squared_error'.\n",
      "  warnings.warn(\n",
      "D:\\My_Software\\Anaconda_my_env\\deeplearning_pytorch\\Lib\\site-packages\\sklearn\\metrics\\_regression.py:492: FutureWarning: 'squared' is deprecated in version 1.4 and will be removed in 1.6. To calculate the root mean squared error, use the function'root_mean_squared_error'.\n",
      "  warnings.warn(\n",
      "D:\\My_Software\\Anaconda_my_env\\deeplearning_pytorch\\Lib\\site-packages\\sklearn\\metrics\\_regression.py:492: FutureWarning: 'squared' is deprecated in version 1.4 and will be removed in 1.6. To calculate the root mean squared error, use the function'root_mean_squared_error'.\n",
      "  warnings.warn(\n",
      "D:\\My_Software\\Anaconda_my_env\\deeplearning_pytorch\\Lib\\site-packages\\sklearn\\metrics\\_regression.py:492: FutureWarning: 'squared' is deprecated in version 1.4 and will be removed in 1.6. To calculate the root mean squared error, use the function'root_mean_squared_error'.\n",
      "  warnings.warn(\n",
      "D:\\My_Software\\Anaconda_my_env\\deeplearning_pytorch\\Lib\\site-packages\\sklearn\\metrics\\_regression.py:492: FutureWarning: 'squared' is deprecated in version 1.4 and will be removed in 1.6. To calculate the root mean squared error, use the function'root_mean_squared_error'.\n",
      "  warnings.warn(\n",
      "D:\\My_Software\\Anaconda_my_env\\deeplearning_pytorch\\Lib\\site-packages\\sklearn\\metrics\\_regression.py:492: FutureWarning: 'squared' is deprecated in version 1.4 and will be removed in 1.6. To calculate the root mean squared error, use the function'root_mean_squared_error'.\n",
      "  warnings.warn(\n",
      "D:\\My_Software\\Anaconda_my_env\\deeplearning_pytorch\\Lib\\site-packages\\sklearn\\metrics\\_regression.py:492: FutureWarning: 'squared' is deprecated in version 1.4 and will be removed in 1.6. To calculate the root mean squared error, use the function'root_mean_squared_error'.\n",
      "  warnings.warn(\n"
     ]
    },
    {
     "name": "stdout",
     "output_type": "stream",
     "text": [
      " epoch 0 | loss 0.9987 | Train Sat 0.002 | Test Sat 0.002 | Train RMSE 140.747 | Test RMSE 144.584 \n"
     ]
    },
    {
     "name": "stderr",
     "output_type": "stream",
     "text": [
      "D:\\My_Software\\Anaconda_my_env\\deeplearning_pytorch\\Lib\\site-packages\\sklearn\\metrics\\_regression.py:492: FutureWarning: 'squared' is deprecated in version 1.4 and will be removed in 1.6. To calculate the root mean squared error, use the function'root_mean_squared_error'.\n",
      "  warnings.warn(\n",
      "D:\\My_Software\\Anaconda_my_env\\deeplearning_pytorch\\Lib\\site-packages\\sklearn\\metrics\\_regression.py:492: FutureWarning: 'squared' is deprecated in version 1.4 and will be removed in 1.6. To calculate the root mean squared error, use the function'root_mean_squared_error'.\n",
      "  warnings.warn(\n",
      "D:\\My_Software\\Anaconda_my_env\\deeplearning_pytorch\\Lib\\site-packages\\sklearn\\metrics\\_regression.py:492: FutureWarning: 'squared' is deprecated in version 1.4 and will be removed in 1.6. To calculate the root mean squared error, use the function'root_mean_squared_error'.\n",
      "  warnings.warn(\n",
      "D:\\My_Software\\Anaconda_my_env\\deeplearning_pytorch\\Lib\\site-packages\\sklearn\\metrics\\_regression.py:492: FutureWarning: 'squared' is deprecated in version 1.4 and will be removed in 1.6. To calculate the root mean squared error, use the function'root_mean_squared_error'.\n",
      "  warnings.warn(\n",
      "D:\\My_Software\\Anaconda_my_env\\deeplearning_pytorch\\Lib\\site-packages\\sklearn\\metrics\\_regression.py:492: FutureWarning: 'squared' is deprecated in version 1.4 and will be removed in 1.6. To calculate the root mean squared error, use the function'root_mean_squared_error'.\n",
      "  warnings.warn(\n",
      "D:\\My_Software\\Anaconda_my_env\\deeplearning_pytorch\\Lib\\site-packages\\sklearn\\metrics\\_regression.py:492: FutureWarning: 'squared' is deprecated in version 1.4 and will be removed in 1.6. To calculate the root mean squared error, use the function'root_mean_squared_error'.\n",
      "  warnings.warn(\n",
      "D:\\My_Software\\Anaconda_my_env\\deeplearning_pytorch\\Lib\\site-packages\\sklearn\\metrics\\_regression.py:492: FutureWarning: 'squared' is deprecated in version 1.4 and will be removed in 1.6. To calculate the root mean squared error, use the function'root_mean_squared_error'.\n",
      "  warnings.warn(\n",
      "D:\\My_Software\\Anaconda_my_env\\deeplearning_pytorch\\Lib\\site-packages\\sklearn\\metrics\\_regression.py:492: FutureWarning: 'squared' is deprecated in version 1.4 and will be removed in 1.6. To calculate the root mean squared error, use the function'root_mean_squared_error'.\n",
      "  warnings.warn(\n"
     ]
    },
    {
     "name": "stdout",
     "output_type": "stream",
     "text": [
      " epoch 50 | loss 0.2989 | Train Sat 0.701 | Test Sat 0.733 | Train RMSE 9.098 | Test RMSE 7.128 \n"
     ]
    },
    {
     "name": "stderr",
     "output_type": "stream",
     "text": [
      "D:\\My_Software\\Anaconda_my_env\\deeplearning_pytorch\\Lib\\site-packages\\sklearn\\metrics\\_regression.py:492: FutureWarning: 'squared' is deprecated in version 1.4 and will be removed in 1.6. To calculate the root mean squared error, use the function'root_mean_squared_error'.\n",
      "  warnings.warn(\n",
      "D:\\My_Software\\Anaconda_my_env\\deeplearning_pytorch\\Lib\\site-packages\\sklearn\\metrics\\_regression.py:492: FutureWarning: 'squared' is deprecated in version 1.4 and will be removed in 1.6. To calculate the root mean squared error, use the function'root_mean_squared_error'.\n",
      "  warnings.warn(\n",
      "D:\\My_Software\\Anaconda_my_env\\deeplearning_pytorch\\Lib\\site-packages\\sklearn\\metrics\\_regression.py:492: FutureWarning: 'squared' is deprecated in version 1.4 and will be removed in 1.6. To calculate the root mean squared error, use the function'root_mean_squared_error'.\n",
      "  warnings.warn(\n",
      "D:\\My_Software\\Anaconda_my_env\\deeplearning_pytorch\\Lib\\site-packages\\sklearn\\metrics\\_regression.py:492: FutureWarning: 'squared' is deprecated in version 1.4 and will be removed in 1.6. To calculate the root mean squared error, use the function'root_mean_squared_error'.\n",
      "  warnings.warn(\n",
      "D:\\My_Software\\Anaconda_my_env\\deeplearning_pytorch\\Lib\\site-packages\\sklearn\\metrics\\_regression.py:492: FutureWarning: 'squared' is deprecated in version 1.4 and will be removed in 1.6. To calculate the root mean squared error, use the function'root_mean_squared_error'.\n",
      "  warnings.warn(\n",
      "D:\\My_Software\\Anaconda_my_env\\deeplearning_pytorch\\Lib\\site-packages\\sklearn\\metrics\\_regression.py:492: FutureWarning: 'squared' is deprecated in version 1.4 and will be removed in 1.6. To calculate the root mean squared error, use the function'root_mean_squared_error'.\n",
      "  warnings.warn(\n",
      "D:\\My_Software\\Anaconda_my_env\\deeplearning_pytorch\\Lib\\site-packages\\sklearn\\metrics\\_regression.py:492: FutureWarning: 'squared' is deprecated in version 1.4 and will be removed in 1.6. To calculate the root mean squared error, use the function'root_mean_squared_error'.\n",
      "  warnings.warn(\n",
      "D:\\My_Software\\Anaconda_my_env\\deeplearning_pytorch\\Lib\\site-packages\\sklearn\\metrics\\_regression.py:492: FutureWarning: 'squared' is deprecated in version 1.4 and will be removed in 1.6. To calculate the root mean squared error, use the function'root_mean_squared_error'.\n",
      "  warnings.warn(\n"
     ]
    },
    {
     "name": "stdout",
     "output_type": "stream",
     "text": [
      " epoch 100 | loss 0.2860 | Train Sat 0.696 | Test Sat 0.743 | Train RMSE 9.362 | Test RMSE 6.900 \n"
     ]
    },
    {
     "name": "stderr",
     "output_type": "stream",
     "text": [
      "D:\\My_Software\\Anaconda_my_env\\deeplearning_pytorch\\Lib\\site-packages\\sklearn\\metrics\\_regression.py:492: FutureWarning: 'squared' is deprecated in version 1.4 and will be removed in 1.6. To calculate the root mean squared error, use the function'root_mean_squared_error'.\n",
      "  warnings.warn(\n",
      "D:\\My_Software\\Anaconda_my_env\\deeplearning_pytorch\\Lib\\site-packages\\sklearn\\metrics\\_regression.py:492: FutureWarning: 'squared' is deprecated in version 1.4 and will be removed in 1.6. To calculate the root mean squared error, use the function'root_mean_squared_error'.\n",
      "  warnings.warn(\n",
      "D:\\My_Software\\Anaconda_my_env\\deeplearning_pytorch\\Lib\\site-packages\\sklearn\\metrics\\_regression.py:492: FutureWarning: 'squared' is deprecated in version 1.4 and will be removed in 1.6. To calculate the root mean squared error, use the function'root_mean_squared_error'.\n",
      "  warnings.warn(\n",
      "D:\\My_Software\\Anaconda_my_env\\deeplearning_pytorch\\Lib\\site-packages\\sklearn\\metrics\\_regression.py:492: FutureWarning: 'squared' is deprecated in version 1.4 and will be removed in 1.6. To calculate the root mean squared error, use the function'root_mean_squared_error'.\n",
      "  warnings.warn(\n",
      "D:\\My_Software\\Anaconda_my_env\\deeplearning_pytorch\\Lib\\site-packages\\sklearn\\metrics\\_regression.py:492: FutureWarning: 'squared' is deprecated in version 1.4 and will be removed in 1.6. To calculate the root mean squared error, use the function'root_mean_squared_error'.\n",
      "  warnings.warn(\n",
      "D:\\My_Software\\Anaconda_my_env\\deeplearning_pytorch\\Lib\\site-packages\\sklearn\\metrics\\_regression.py:492: FutureWarning: 'squared' is deprecated in version 1.4 and will be removed in 1.6. To calculate the root mean squared error, use the function'root_mean_squared_error'.\n",
      "  warnings.warn(\n",
      "D:\\My_Software\\Anaconda_my_env\\deeplearning_pytorch\\Lib\\site-packages\\sklearn\\metrics\\_regression.py:492: FutureWarning: 'squared' is deprecated in version 1.4 and will be removed in 1.6. To calculate the root mean squared error, use the function'root_mean_squared_error'.\n",
      "  warnings.warn(\n",
      "D:\\My_Software\\Anaconda_my_env\\deeplearning_pytorch\\Lib\\site-packages\\sklearn\\metrics\\_regression.py:492: FutureWarning: 'squared' is deprecated in version 1.4 and will be removed in 1.6. To calculate the root mean squared error, use the function'root_mean_squared_error'.\n",
      "  warnings.warn(\n"
     ]
    },
    {
     "name": "stdout",
     "output_type": "stream",
     "text": [
      " epoch 150 | loss 0.2808 | Train Sat 0.715 | Test Sat 0.755 | Train RMSE 8.395 | Test RMSE 6.551 \n"
     ]
    },
    {
     "name": "stderr",
     "output_type": "stream",
     "text": [
      "D:\\My_Software\\Anaconda_my_env\\deeplearning_pytorch\\Lib\\site-packages\\sklearn\\metrics\\_regression.py:492: FutureWarning: 'squared' is deprecated in version 1.4 and will be removed in 1.6. To calculate the root mean squared error, use the function'root_mean_squared_error'.\n",
      "  warnings.warn(\n",
      "D:\\My_Software\\Anaconda_my_env\\deeplearning_pytorch\\Lib\\site-packages\\sklearn\\metrics\\_regression.py:492: FutureWarning: 'squared' is deprecated in version 1.4 and will be removed in 1.6. To calculate the root mean squared error, use the function'root_mean_squared_error'.\n",
      "  warnings.warn(\n",
      "D:\\My_Software\\Anaconda_my_env\\deeplearning_pytorch\\Lib\\site-packages\\sklearn\\metrics\\_regression.py:492: FutureWarning: 'squared' is deprecated in version 1.4 and will be removed in 1.6. To calculate the root mean squared error, use the function'root_mean_squared_error'.\n",
      "  warnings.warn(\n",
      "D:\\My_Software\\Anaconda_my_env\\deeplearning_pytorch\\Lib\\site-packages\\sklearn\\metrics\\_regression.py:492: FutureWarning: 'squared' is deprecated in version 1.4 and will be removed in 1.6. To calculate the root mean squared error, use the function'root_mean_squared_error'.\n",
      "  warnings.warn(\n",
      "D:\\My_Software\\Anaconda_my_env\\deeplearning_pytorch\\Lib\\site-packages\\sklearn\\metrics\\_regression.py:492: FutureWarning: 'squared' is deprecated in version 1.4 and will be removed in 1.6. To calculate the root mean squared error, use the function'root_mean_squared_error'.\n",
      "  warnings.warn(\n",
      "D:\\My_Software\\Anaconda_my_env\\deeplearning_pytorch\\Lib\\site-packages\\sklearn\\metrics\\_regression.py:492: FutureWarning: 'squared' is deprecated in version 1.4 and will be removed in 1.6. To calculate the root mean squared error, use the function'root_mean_squared_error'.\n",
      "  warnings.warn(\n",
      "D:\\My_Software\\Anaconda_my_env\\deeplearning_pytorch\\Lib\\site-packages\\sklearn\\metrics\\_regression.py:492: FutureWarning: 'squared' is deprecated in version 1.4 and will be removed in 1.6. To calculate the root mean squared error, use the function'root_mean_squared_error'.\n",
      "  warnings.warn(\n",
      "D:\\My_Software\\Anaconda_my_env\\deeplearning_pytorch\\Lib\\site-packages\\sklearn\\metrics\\_regression.py:492: FutureWarning: 'squared' is deprecated in version 1.4 and will be removed in 1.6. To calculate the root mean squared error, use the function'root_mean_squared_error'.\n",
      "  warnings.warn(\n"
     ]
    },
    {
     "name": "stdout",
     "output_type": "stream",
     "text": [
      " epoch 200 | loss 0.2990 | Train Sat 0.716 | Test Sat 0.755 | Train RMSE 8.853 | Test RMSE 6.614 \n"
     ]
    },
    {
     "name": "stderr",
     "output_type": "stream",
     "text": [
      "D:\\My_Software\\Anaconda_my_env\\deeplearning_pytorch\\Lib\\site-packages\\sklearn\\metrics\\_regression.py:492: FutureWarning: 'squared' is deprecated in version 1.4 and will be removed in 1.6. To calculate the root mean squared error, use the function'root_mean_squared_error'.\n",
      "  warnings.warn(\n",
      "D:\\My_Software\\Anaconda_my_env\\deeplearning_pytorch\\Lib\\site-packages\\sklearn\\metrics\\_regression.py:492: FutureWarning: 'squared' is deprecated in version 1.4 and will be removed in 1.6. To calculate the root mean squared error, use the function'root_mean_squared_error'.\n",
      "  warnings.warn(\n",
      "D:\\My_Software\\Anaconda_my_env\\deeplearning_pytorch\\Lib\\site-packages\\sklearn\\metrics\\_regression.py:492: FutureWarning: 'squared' is deprecated in version 1.4 and will be removed in 1.6. To calculate the root mean squared error, use the function'root_mean_squared_error'.\n",
      "  warnings.warn(\n",
      "D:\\My_Software\\Anaconda_my_env\\deeplearning_pytorch\\Lib\\site-packages\\sklearn\\metrics\\_regression.py:492: FutureWarning: 'squared' is deprecated in version 1.4 and will be removed in 1.6. To calculate the root mean squared error, use the function'root_mean_squared_error'.\n",
      "  warnings.warn(\n",
      "D:\\My_Software\\Anaconda_my_env\\deeplearning_pytorch\\Lib\\site-packages\\sklearn\\metrics\\_regression.py:492: FutureWarning: 'squared' is deprecated in version 1.4 and will be removed in 1.6. To calculate the root mean squared error, use the function'root_mean_squared_error'.\n",
      "  warnings.warn(\n",
      "D:\\My_Software\\Anaconda_my_env\\deeplearning_pytorch\\Lib\\site-packages\\sklearn\\metrics\\_regression.py:492: FutureWarning: 'squared' is deprecated in version 1.4 and will be removed in 1.6. To calculate the root mean squared error, use the function'root_mean_squared_error'.\n",
      "  warnings.warn(\n",
      "D:\\My_Software\\Anaconda_my_env\\deeplearning_pytorch\\Lib\\site-packages\\sklearn\\metrics\\_regression.py:492: FutureWarning: 'squared' is deprecated in version 1.4 and will be removed in 1.6. To calculate the root mean squared error, use the function'root_mean_squared_error'.\n",
      "  warnings.warn(\n",
      "D:\\My_Software\\Anaconda_my_env\\deeplearning_pytorch\\Lib\\site-packages\\sklearn\\metrics\\_regression.py:492: FutureWarning: 'squared' is deprecated in version 1.4 and will be removed in 1.6. To calculate the root mean squared error, use the function'root_mean_squared_error'.\n",
      "  warnings.warn(\n"
     ]
    },
    {
     "name": "stdout",
     "output_type": "stream",
     "text": [
      " epoch 250 | loss 0.2906 | Train Sat 0.715 | Test Sat 0.751 | Train RMSE 8.678 | Test RMSE 6.714 \n"
     ]
    },
    {
     "name": "stderr",
     "output_type": "stream",
     "text": [
      "D:\\My_Software\\Anaconda_my_env\\deeplearning_pytorch\\Lib\\site-packages\\sklearn\\metrics\\_regression.py:492: FutureWarning: 'squared' is deprecated in version 1.4 and will be removed in 1.6. To calculate the root mean squared error, use the function'root_mean_squared_error'.\n",
      "  warnings.warn(\n",
      "D:\\My_Software\\Anaconda_my_env\\deeplearning_pytorch\\Lib\\site-packages\\sklearn\\metrics\\_regression.py:492: FutureWarning: 'squared' is deprecated in version 1.4 and will be removed in 1.6. To calculate the root mean squared error, use the function'root_mean_squared_error'.\n",
      "  warnings.warn(\n",
      "D:\\My_Software\\Anaconda_my_env\\deeplearning_pytorch\\Lib\\site-packages\\sklearn\\metrics\\_regression.py:492: FutureWarning: 'squared' is deprecated in version 1.4 and will be removed in 1.6. To calculate the root mean squared error, use the function'root_mean_squared_error'.\n",
      "  warnings.warn(\n",
      "D:\\My_Software\\Anaconda_my_env\\deeplearning_pytorch\\Lib\\site-packages\\sklearn\\metrics\\_regression.py:492: FutureWarning: 'squared' is deprecated in version 1.4 and will be removed in 1.6. To calculate the root mean squared error, use the function'root_mean_squared_error'.\n",
      "  warnings.warn(\n",
      "D:\\My_Software\\Anaconda_my_env\\deeplearning_pytorch\\Lib\\site-packages\\sklearn\\metrics\\_regression.py:492: FutureWarning: 'squared' is deprecated in version 1.4 and will be removed in 1.6. To calculate the root mean squared error, use the function'root_mean_squared_error'.\n",
      "  warnings.warn(\n",
      "D:\\My_Software\\Anaconda_my_env\\deeplearning_pytorch\\Lib\\site-packages\\sklearn\\metrics\\_regression.py:492: FutureWarning: 'squared' is deprecated in version 1.4 and will be removed in 1.6. To calculate the root mean squared error, use the function'root_mean_squared_error'.\n",
      "  warnings.warn(\n",
      "D:\\My_Software\\Anaconda_my_env\\deeplearning_pytorch\\Lib\\site-packages\\sklearn\\metrics\\_regression.py:492: FutureWarning: 'squared' is deprecated in version 1.4 and will be removed in 1.6. To calculate the root mean squared error, use the function'root_mean_squared_error'.\n",
      "  warnings.warn(\n",
      "D:\\My_Software\\Anaconda_my_env\\deeplearning_pytorch\\Lib\\site-packages\\sklearn\\metrics\\_regression.py:492: FutureWarning: 'squared' is deprecated in version 1.4 and will be removed in 1.6. To calculate the root mean squared error, use the function'root_mean_squared_error'.\n",
      "  warnings.warn(\n"
     ]
    },
    {
     "name": "stdout",
     "output_type": "stream",
     "text": [
      " epoch 300 | loss 0.2977 | Train Sat 0.721 | Test Sat 0.759 | Train RMSE 9.691 | Test RMSE 6.490 \n"
     ]
    },
    {
     "name": "stderr",
     "output_type": "stream",
     "text": [
      "D:\\My_Software\\Anaconda_my_env\\deeplearning_pytorch\\Lib\\site-packages\\sklearn\\metrics\\_regression.py:492: FutureWarning: 'squared' is deprecated in version 1.4 and will be removed in 1.6. To calculate the root mean squared error, use the function'root_mean_squared_error'.\n",
      "  warnings.warn(\n",
      "D:\\My_Software\\Anaconda_my_env\\deeplearning_pytorch\\Lib\\site-packages\\sklearn\\metrics\\_regression.py:492: FutureWarning: 'squared' is deprecated in version 1.4 and will be removed in 1.6. To calculate the root mean squared error, use the function'root_mean_squared_error'.\n",
      "  warnings.warn(\n",
      "D:\\My_Software\\Anaconda_my_env\\deeplearning_pytorch\\Lib\\site-packages\\sklearn\\metrics\\_regression.py:492: FutureWarning: 'squared' is deprecated in version 1.4 and will be removed in 1.6. To calculate the root mean squared error, use the function'root_mean_squared_error'.\n",
      "  warnings.warn(\n",
      "D:\\My_Software\\Anaconda_my_env\\deeplearning_pytorch\\Lib\\site-packages\\sklearn\\metrics\\_regression.py:492: FutureWarning: 'squared' is deprecated in version 1.4 and will be removed in 1.6. To calculate the root mean squared error, use the function'root_mean_squared_error'.\n",
      "  warnings.warn(\n",
      "D:\\My_Software\\Anaconda_my_env\\deeplearning_pytorch\\Lib\\site-packages\\sklearn\\metrics\\_regression.py:492: FutureWarning: 'squared' is deprecated in version 1.4 and will be removed in 1.6. To calculate the root mean squared error, use the function'root_mean_squared_error'.\n",
      "  warnings.warn(\n",
      "D:\\My_Software\\Anaconda_my_env\\deeplearning_pytorch\\Lib\\site-packages\\sklearn\\metrics\\_regression.py:492: FutureWarning: 'squared' is deprecated in version 1.4 and will be removed in 1.6. To calculate the root mean squared error, use the function'root_mean_squared_error'.\n",
      "  warnings.warn(\n",
      "D:\\My_Software\\Anaconda_my_env\\deeplearning_pytorch\\Lib\\site-packages\\sklearn\\metrics\\_regression.py:492: FutureWarning: 'squared' is deprecated in version 1.4 and will be removed in 1.6. To calculate the root mean squared error, use the function'root_mean_squared_error'.\n",
      "  warnings.warn(\n",
      "D:\\My_Software\\Anaconda_my_env\\deeplearning_pytorch\\Lib\\site-packages\\sklearn\\metrics\\_regression.py:492: FutureWarning: 'squared' is deprecated in version 1.4 and will be removed in 1.6. To calculate the root mean squared error, use the function'root_mean_squared_error'.\n",
      "  warnings.warn(\n"
     ]
    },
    {
     "name": "stdout",
     "output_type": "stream",
     "text": [
      " epoch 350 | loss 0.2683 | Train Sat 0.720 | Test Sat 0.761 | Train RMSE 8.639 | Test RMSE 6.415 \n"
     ]
    },
    {
     "name": "stderr",
     "output_type": "stream",
     "text": [
      "D:\\My_Software\\Anaconda_my_env\\deeplearning_pytorch\\Lib\\site-packages\\sklearn\\metrics\\_regression.py:492: FutureWarning: 'squared' is deprecated in version 1.4 and will be removed in 1.6. To calculate the root mean squared error, use the function'root_mean_squared_error'.\n",
      "  warnings.warn(\n",
      "D:\\My_Software\\Anaconda_my_env\\deeplearning_pytorch\\Lib\\site-packages\\sklearn\\metrics\\_regression.py:492: FutureWarning: 'squared' is deprecated in version 1.4 and will be removed in 1.6. To calculate the root mean squared error, use the function'root_mean_squared_error'.\n",
      "  warnings.warn(\n",
      "D:\\My_Software\\Anaconda_my_env\\deeplearning_pytorch\\Lib\\site-packages\\sklearn\\metrics\\_regression.py:492: FutureWarning: 'squared' is deprecated in version 1.4 and will be removed in 1.6. To calculate the root mean squared error, use the function'root_mean_squared_error'.\n",
      "  warnings.warn(\n",
      "D:\\My_Software\\Anaconda_my_env\\deeplearning_pytorch\\Lib\\site-packages\\sklearn\\metrics\\_regression.py:492: FutureWarning: 'squared' is deprecated in version 1.4 and will be removed in 1.6. To calculate the root mean squared error, use the function'root_mean_squared_error'.\n",
      "  warnings.warn(\n",
      "D:\\My_Software\\Anaconda_my_env\\deeplearning_pytorch\\Lib\\site-packages\\sklearn\\metrics\\_regression.py:492: FutureWarning: 'squared' is deprecated in version 1.4 and will be removed in 1.6. To calculate the root mean squared error, use the function'root_mean_squared_error'.\n",
      "  warnings.warn(\n",
      "D:\\My_Software\\Anaconda_my_env\\deeplearning_pytorch\\Lib\\site-packages\\sklearn\\metrics\\_regression.py:492: FutureWarning: 'squared' is deprecated in version 1.4 and will be removed in 1.6. To calculate the root mean squared error, use the function'root_mean_squared_error'.\n",
      "  warnings.warn(\n",
      "D:\\My_Software\\Anaconda_my_env\\deeplearning_pytorch\\Lib\\site-packages\\sklearn\\metrics\\_regression.py:492: FutureWarning: 'squared' is deprecated in version 1.4 and will be removed in 1.6. To calculate the root mean squared error, use the function'root_mean_squared_error'.\n",
      "  warnings.warn(\n",
      "D:\\My_Software\\Anaconda_my_env\\deeplearning_pytorch\\Lib\\site-packages\\sklearn\\metrics\\_regression.py:492: FutureWarning: 'squared' is deprecated in version 1.4 and will be removed in 1.6. To calculate the root mean squared error, use the function'root_mean_squared_error'.\n",
      "  warnings.warn(\n"
     ]
    },
    {
     "name": "stdout",
     "output_type": "stream",
     "text": [
      " epoch 400 | loss 0.2878 | Train Sat 0.734 | Test Sat 0.756 | Train RMSE 8.167 | Test RMSE 6.599 \n"
     ]
    },
    {
     "name": "stderr",
     "output_type": "stream",
     "text": [
      "D:\\My_Software\\Anaconda_my_env\\deeplearning_pytorch\\Lib\\site-packages\\sklearn\\metrics\\_regression.py:492: FutureWarning: 'squared' is deprecated in version 1.4 and will be removed in 1.6. To calculate the root mean squared error, use the function'root_mean_squared_error'.\n",
      "  warnings.warn(\n",
      "D:\\My_Software\\Anaconda_my_env\\deeplearning_pytorch\\Lib\\site-packages\\sklearn\\metrics\\_regression.py:492: FutureWarning: 'squared' is deprecated in version 1.4 and will be removed in 1.6. To calculate the root mean squared error, use the function'root_mean_squared_error'.\n",
      "  warnings.warn(\n",
      "D:\\My_Software\\Anaconda_my_env\\deeplearning_pytorch\\Lib\\site-packages\\sklearn\\metrics\\_regression.py:492: FutureWarning: 'squared' is deprecated in version 1.4 and will be removed in 1.6. To calculate the root mean squared error, use the function'root_mean_squared_error'.\n",
      "  warnings.warn(\n",
      "D:\\My_Software\\Anaconda_my_env\\deeplearning_pytorch\\Lib\\site-packages\\sklearn\\metrics\\_regression.py:492: FutureWarning: 'squared' is deprecated in version 1.4 and will be removed in 1.6. To calculate the root mean squared error, use the function'root_mean_squared_error'.\n",
      "  warnings.warn(\n",
      "D:\\My_Software\\Anaconda_my_env\\deeplearning_pytorch\\Lib\\site-packages\\sklearn\\metrics\\_regression.py:492: FutureWarning: 'squared' is deprecated in version 1.4 and will be removed in 1.6. To calculate the root mean squared error, use the function'root_mean_squared_error'.\n",
      "  warnings.warn(\n",
      "D:\\My_Software\\Anaconda_my_env\\deeplearning_pytorch\\Lib\\site-packages\\sklearn\\metrics\\_regression.py:492: FutureWarning: 'squared' is deprecated in version 1.4 and will be removed in 1.6. To calculate the root mean squared error, use the function'root_mean_squared_error'.\n",
      "  warnings.warn(\n",
      "D:\\My_Software\\Anaconda_my_env\\deeplearning_pytorch\\Lib\\site-packages\\sklearn\\metrics\\_regression.py:492: FutureWarning: 'squared' is deprecated in version 1.4 and will be removed in 1.6. To calculate the root mean squared error, use the function'root_mean_squared_error'.\n",
      "  warnings.warn(\n",
      "D:\\My_Software\\Anaconda_my_env\\deeplearning_pytorch\\Lib\\site-packages\\sklearn\\metrics\\_regression.py:492: FutureWarning: 'squared' is deprecated in version 1.4 and will be removed in 1.6. To calculate the root mean squared error, use the function'root_mean_squared_error'.\n",
      "  warnings.warn(\n"
     ]
    },
    {
     "name": "stdout",
     "output_type": "stream",
     "text": [
      " epoch 450 | loss 0.2709 | Train Sat 0.728 | Test Sat 0.755 | Train RMSE 8.899 | Test RMSE 6.653 \n"
     ]
    }
   ],
   "execution_count": 9
  },
  {
   "cell_type": "markdown",
   "source": [
    "Notice that variables $x$ and $y$ are grounded batch by batch with new data arriving from the data loader. This is exactly what\n",
    "we mean with $\\mathcal{G}_{x \\leftarrow \\boldsymbol{B}}(\\phi(x))$, where $B$ is a mini-batch sampled by the data loader.\n",
    "\n",
    "Notice also that `SatAgg` is defined by one single axiom and returns the truth value corresponding to the evaluation\n",
    "of the axiom.\n",
    "\n",
    "Note that after 300 epochs the test RMSE is around 7, while at the beginning of the training it was around 62. This shows\n",
    "the power of LTN in learning the regression task only using the satisfaction of a knowledge base as an objective.\n"
   ],
   "metadata": {
    "collapsed": false
   }
  },
  {
   "metadata": {},
   "cell_type": "markdown",
   "source": [
    "注意，变量 $ x $ 和 $ y $ 是通过数据加载器逐批进行基础化的。这正是我们所说的 $\\mathcal{G}_{x \\leftarrow \\boldsymbol{B}}(\\phi(x))$，其中 $ B $ 是由数据加载器抽样的一个小批次。\n",
    "\n",
    "还要注意，`SatAgg` 由一个单一公理定义，并返回对应于该公理评估的真值。\n",
    "\n",
    "请注意，经过 300 个周期后，测试 RMSE 约为 7，而在训练开始时约为 62。这表明 LTN 在仅使用知识库的满意度作为目标时学习回归任务的强大能力。"
   ]
  }
 ],
 "metadata": {
  "kernelspec": {
   "display_name": "Python 3",
   "language": "python",
   "name": "python3"
  },
  "language_info": {
   "codemirror_mode": {
    "name": "ipython",
    "version": 2
   },
   "file_extension": ".py",
   "mimetype": "text/x-python",
   "name": "python",
   "nbconvert_exporter": "python",
   "pygments_lexer": "ipython2",
   "version": "2.7.6"
  }
 },
 "nbformat": 4,
 "nbformat_minor": 0
}
