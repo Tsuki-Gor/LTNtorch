{
 "cells": [
  {
   "metadata": {},
   "cell_type": "markdown",
   "source": "## Demo1",
   "id": "a6c3906d4b0dd80e"
  },
  {
   "cell_type": "code",
   "id": "initial_id",
   "metadata": {
    "collapsed": true
   },
   "source": [
    "import ltn\n",
    "import torch\n",
    "\n",
    "predicate_model = torch.nn.Sequential(torch.nn.Linear(4, 2),torch.nn.ELU(),torch.nn.Linear(2, 1),torch.nn.Sigmoid())\n",
    "p = ltn.Predicate(model=predicate_model)\n",
    "print(p)\n",
    "p_f = ltn.Predicate(func=lambda x: torch.nn.Sigmoid()(torch.sum(x, dim=1)))\n",
    "print(p_f)\n",
    "\n",
    "c = ltn.Constant(torch.tensor([0.5, 0.01, 0.34, 0.001]))\n",
    "out = p_f(c)\n",
    "print(type(out))\n",
    "print(out)\n",
    "print(out.value)\n",
    "print(out.free_vars)\n",
    "print(out.shape())"
   ],
   "outputs": [],
   "execution_count": null
  },
  {
   "metadata": {},
   "cell_type": "markdown",
   "source": "# Demo2",
   "id": "21b805bb90e1e4af"
  },
  {
   "metadata": {
    "ExecuteTime": {
     "end_time": "2024-08-08T15:48:34.424708Z",
     "start_time": "2024-08-08T15:48:29.307142Z"
    }
   },
   "cell_type": "code",
   "source": [
    "from PIL import Image\n",
    "import numpy as np\n",
    "import torchvision.transforms as transforms\n",
    "\n",
    "# 创建一个示例图像 (28x28 的随机灰度图像)\n",
    "image = Image.fromarray((np.random.rand(28, 28) * 255).astype(np.uint8))\n",
    "\n",
    "print(image)\n",
    "image.show()\n",
    "print(image.tonumpy())\n",
    "\n",
    "# 创建 ToTensor 变换\n",
    "to_tensor = transforms.ToTensor()\n",
    "\n",
    "# 应用变换\n",
    "tensor_image = to_tensor(image)\n",
    "\n",
    "# 打印结果\n",
    "print(tensor_image)\n",
    "print(tensor_image.shape)\n",
    "print(tensor_image.min(), tensor_image.max())\n"
   ],
   "id": "d252000a08d286c5",
   "outputs": [
    {
     "name": "stdout",
     "output_type": "stream",
     "text": [
      "<PIL.Image.Image image mode=L size=28x28 at 0x2C4AB890AD0>\n"
     ]
    },
    {
     "ename": "AttributeError",
     "evalue": "'Image' object has no attribute 'tonumpy'",
     "output_type": "error",
     "traceback": [
      "\u001B[1;31m---------------------------------------------------------------------------\u001B[0m",
      "\u001B[1;31mAttributeError\u001B[0m                            Traceback (most recent call last)",
      "Cell \u001B[1;32mIn[4], line 10\u001B[0m\n\u001B[0;32m      8\u001B[0m \u001B[38;5;28mprint\u001B[39m(image)\n\u001B[0;32m      9\u001B[0m image\u001B[38;5;241m.\u001B[39mshow()\n\u001B[1;32m---> 10\u001B[0m \u001B[38;5;28mprint\u001B[39m(image\u001B[38;5;241m.\u001B[39mtonumpy())\n\u001B[0;32m     12\u001B[0m \u001B[38;5;66;03m# 创建 ToTensor 变换\u001B[39;00m\n\u001B[0;32m     13\u001B[0m to_tensor \u001B[38;5;241m=\u001B[39m transforms\u001B[38;5;241m.\u001B[39mToTensor()\n",
      "\u001B[1;31mAttributeError\u001B[0m: 'Image' object has no attribute 'tonumpy'"
     ]
    }
   ],
   "execution_count": 4
  }
 ],
 "metadata": {
  "kernelspec": {
   "display_name": "Python 3",
   "language": "python",
   "name": "python3"
  },
  "language_info": {
   "codemirror_mode": {
    "name": "ipython",
    "version": 2
   },
   "file_extension": ".py",
   "mimetype": "text/x-python",
   "name": "python",
   "nbconvert_exporter": "python",
   "pygments_lexer": "ipython2",
   "version": "2.7.6"
  }
 },
 "nbformat": 4,
 "nbformat_minor": 5
}
