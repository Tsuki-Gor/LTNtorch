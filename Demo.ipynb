{
 "cells": [
  {
   "metadata": {},
   "cell_type": "markdown",
   "source": "## Demo1",
   "id": "a6c3906d4b0dd80e"
  },
  {
   "cell_type": "code",
   "id": "initial_id",
   "metadata": {
    "collapsed": true
   },
   "source": [
    "import ltn\n",
    "import torch\n",
    "\n",
    "predicate_model = torch.nn.Sequential(torch.nn.Linear(4, 2),torch.nn.ELU(),torch.nn.Linear(2, 1),torch.nn.Sigmoid())\n",
    "p = ltn.Predicate(model=predicate_model)\n",
    "print(p)\n",
    "p_f = ltn.Predicate(func=lambda x: torch.nn.Sigmoid()(torch.sum(x, dim=1)))\n",
    "print(p_f)\n",
    "\n",
    "c = ltn.Constant(torch.tensor([0.5, 0.01, 0.34, 0.001]))\n",
    "out = p_f(c)\n",
    "print(type(out))\n",
    "print(out)\n",
    "print(out.value)\n",
    "print(out.free_vars)\n",
    "print(out.shape())"
   ],
   "outputs": [],
   "execution_count": null
  },
  {
   "metadata": {},
   "cell_type": "markdown",
   "source": "# Demo2",
   "id": "21b805bb90e1e4af"
  },
  {
   "metadata": {},
   "cell_type": "code",
   "outputs": [],
   "execution_count": null,
   "source": "",
   "id": "d252000a08d286c5"
  }
 ],
 "metadata": {
  "kernelspec": {
   "display_name": "Python 3",
   "language": "python",
   "name": "python3"
  },
  "language_info": {
   "codemirror_mode": {
    "name": "ipython",
    "version": 2
   },
   "file_extension": ".py",
   "mimetype": "text/x-python",
   "name": "python",
   "nbconvert_exporter": "python",
   "pygments_lexer": "ipython2",
   "version": "2.7.6"
  }
 },
 "nbformat": 4,
 "nbformat_minor": 5
}
