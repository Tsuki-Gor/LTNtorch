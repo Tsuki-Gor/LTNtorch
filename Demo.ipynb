{
 "cells": [
  {
   "metadata": {},
   "cell_type": "markdown",
   "source": "## Demo1",
   "id": "a6c3906d4b0dd80e"
  },
  {
   "cell_type": "code",
   "id": "initial_id",
   "metadata": {
    "collapsed": true,
    "ExecuteTime": {
     "end_time": "2024-08-03T06:58:53.114007Z",
     "start_time": "2024-08-03T06:58:49.845165Z"
    }
   },
   "source": [
    "import ltn\n",
    "import torch\n",
    "\n",
    "predicate_model = torch.nn.Sequential(torch.nn.Linear(4, 2),torch.nn.ELU(),torch.nn.Linear(2, 1),torch.nn.Sigmoid())\n",
    "p = ltn.Predicate(model=predicate_model)\n",
    "print(p)\n",
    "p_f = ltn.Predicate(func=lambda x: torch.nn.Sigmoid()(torch.sum(x, dim=1)))\n",
    "print(p_f)\n",
    "\n",
    "c = ltn.Constant(torch.tensor([0.5, 0.01, 0.34, 0.001]))\n",
    "out = p_f(c)\n",
    "print(type(out))\n",
    "print(out)\n",
    "print(out.value)\n",
    "print(out.free_vars)\n",
    "print(out.shape())"
   ],
   "outputs": [
    {
     "name": "stdout",
     "output_type": "stream",
     "text": [
      "Predicate(model=Sequential(\n",
      "  (0): Linear(in_features=4, out_features=2, bias=True)\n",
      "  (1): ELU(alpha=1.0)\n",
      "  (2): Linear(in_features=2, out_features=1, bias=True)\n",
      "  (3): Sigmoid()\n",
      "))\n",
      "Predicate(model=LambdaModel())\n",
      "<class 'ltn.core.LTNObject'>\n",
      "LTNObject(value=tensor(0.7008, device='cuda:0'), free_vars=[])\n",
      "tensor(0.7008, device='cuda:0')\n",
      "[]\n",
      "torch.Size([])\n"
     ]
    }
   ],
   "execution_count": 1
  },
  {
   "metadata": {},
   "cell_type": "markdown",
   "source": "# Demo2",
   "id": "21b805bb90e1e4af"
  },
  {
   "metadata": {},
   "cell_type": "code",
   "outputs": [],
   "execution_count": null,
   "source": "",
   "id": "d252000a08d286c5"
  }
 ],
 "metadata": {
  "kernelspec": {
   "display_name": "Python 3",
   "language": "python",
   "name": "python3"
  },
  "language_info": {
   "codemirror_mode": {
    "name": "ipython",
    "version": 2
   },
   "file_extension": ".py",
   "mimetype": "text/x-python",
   "name": "python",
   "nbconvert_exporter": "python",
   "pygments_lexer": "ipython2",
   "version": "2.7.6"
  }
 },
 "nbformat": 4,
 "nbformat_minor": 5
}
