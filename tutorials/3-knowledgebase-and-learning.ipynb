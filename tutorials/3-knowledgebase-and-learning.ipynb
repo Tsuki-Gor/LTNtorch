{
 "cells": [
  {
   "cell_type": "markdown",
   "source": [
    "# Learning in LTN\n",
    "\n",
    "This tutorial explains the concept of learning in Logic Tensor Networks.\n",
    "\n",
    "In particular, it explains how to learn some language symbols (predicates, functions, constants) using the satisfaction\n",
    "of a knowledge base as an objective.\n",
    "\n",
    "For those unfamiliar with logic, a knowledge base is a container of logical formulas. Satisfying a knowledge base\n",
    "as an objective means find a solution which maximize the satisfaction of all the formulas contained in the knowledge base.\n",
    "In other words, we would find a representation for predicates, functions, and constants which increase the truth degree\n",
    "of the formulas in the knowledge base.\n",
    "\n",
    "This tutorial expects basic familiarity of the first two tutorials on LTN (grounding of symbols and connectives)."
   ],
   "metadata": {
    "collapsed": false
   }
  },
  {
   "metadata": {},
   "cell_type": "markdown",
   "source": [
    "### LTN中的学习\n",
    "\n",
    "本教程解释了在逻辑张量网络（Logic Tensor Networks）中的学习概念。\n",
    "\n",
    "具体来说，它解释了如何使用知识库的满足度作为目标来学习一些语言符号（谓词、函数、常量）。\n",
    "\n",
    "对于不熟悉逻辑的人来说，知识库是逻辑公式的容器。将满足知识库作为目标意味着找到一种解决方案，以最大化知识库中所有公式的满足度。换句话说，我们要找到谓词、函数和常量的表示形式，以提高知识库中公式的真值度。\n",
    "\n",
    "本教程期望读者对前两个关于LTN的教程（符号的基础化和连接词）有基本的熟悉。"
   ]
  },
  {
   "cell_type": "code",
   "source": [
    "import torch\n",
    "import numpy as np\n",
    "import ltn\n",
    "import matplotlib.pyplot as plt"
   ],
   "metadata": {
    "collapsed": false,
    "pycharm": {
     "name": "#%%\n"
    },
    "ExecuteTime": {
     "end_time": "2024-08-05T06:31:44.132420Z",
     "start_time": "2024-08-05T06:31:44.128818Z"
    }
   },
   "outputs": [],
   "execution_count": 47
  },
  {
   "cell_type": "markdown",
   "source": [
    "## Classification with Nearest Neighbour\n",
    "\n",
    "We use the following simple example to illustrate learning in LTN.\n",
    "\n",
    "The domain is the square $[0,4] \\times [0,4]$. We have some points in this domain, and we need to infer their classes.\n",
    "In particular, we know the classes of only two examples. One example is of class $A$ and the other of class $B$.\n",
    "The rest of the points are not labelled, but there are two assumptions:\n",
    "- $A$ and $B$ are mutually exclusive,\n",
    "- any two close points should share the same label.\n",
    "\n",
    "In the following, we plot our dataset made of 19 points. We distinguish between classified and not classified examples."
   ],
   "metadata": {
    "collapsed": false
   }
  },
  {
   "metadata": {},
   "cell_type": "markdown",
   "source": [
    "当然，以下是您提供内容的中文翻译：\n",
    "\n",
    "## 使用最近邻分类\n",
    "\n",
    "我们使用以下简单的示例来说明在 LTN 中的学习。\n",
    "\n",
    "域是正方形 $[0,4] \\times [0,4]$。我们在这个域中有一些点，需要推断它们的类别。\n",
    "特别地，我们只知道两个示例的类别。一个示例属于类别 $A$，另一个示例属于类别 $B$。\n",
    "其余的点没有标签，但有两个假设：\n",
    "- $A$ 和 $B$ 是互斥的，\n",
    "- 任何两个相近的点应该共享相同的标签。\n",
    "\n",
    "在下面的部分中，我们绘制了由 19 个点组成的数据集。我们区分了已分类和未分类的示例。"
   ]
  },
  {
   "cell_type": "code",
   "source": [
    "# 一些解释在3.md的## 1中。\n",
    "points = np.array(\n",
    "        [[0.4,0.3], [1.2,0.3], [2.2,1.3], [1.7,1.0], [0.5,0.5], [0.3, 1.5], [1.3, 1.1], [0.9, 1.7],\n",
    "        [3.4,3.3], [3.2,3.3], [3.2,2.3], [2.7,2.0], [3.5,3.5], [3.3, 2.5], [3.3, 1.1], [1.9, 3.7], [1.3, 3.5],\n",
    "        [3.3, 1.1],[3.9, 3.7]]) # 返回值类型为numpy.ndarray\n",
    "# np.array 函数将列表转换为 numpy 数组，方便后续的数值运算和操作。\n",
    "point_a = [3.3, 2.5]\n",
    "point_b = [1.3, 1.1]\n",
    "fig, ax = plt.subplots() # 返回值类型为Figure和AxesSubplot\n",
    "# plt.subplots() 创建一个包含一个图形和一个子图的图形对象。返回一个包含图形和子图对象的元组。fig 是图形对象，ax 是子图对象，允许我们在子图上绘制数据。\n",
    "ax.set_xlim(0, 4)\n",
    "ax.set_ylim(0, 4)\n",
    "# ax.scatter 函数绘制散点图\n",
    "ax.scatter(points[:,0], points[:,1], color=\"black\", label=\"unknown\")\n",
    "ax.scatter(point_a[0], point_a[1], color=\"blue\", label=\"a\")\n",
    "ax.scatter(point_b[0], point_b[1], color=\"red\", label=\"b\")\n",
    "# 后面的这两个蓝红的点把前面的黑色点覆盖了\n",
    "ax.set_title(\"Dataset of individuals\")\n",
    "plt.legend(); # plt.legend() 显示图例。返回值类型为Legend，即图例对象。\n",
    "\n",
    "print(points[:,0])\n",
    "print(points[:,0].shape)\n",
    "\n",
    "plt.show() # 显示图形对象，在 Jupyter Notebook 中可以不需要调用 plt.show()，但在其他环境中需要调用 plt.show()。图形对象即为前面的fig。图形对象的类型是Figure。"
   ],
   "metadata": {
    "collapsed": false,
    "pycharm": {
     "name": "#%%\n"
    },
    "ExecuteTime": {
     "end_time": "2024-08-05T06:31:45.387634Z",
     "start_time": "2024-08-05T06:31:45.200192Z"
    }
   },
   "outputs": [
    {
     "name": "stdout",
     "output_type": "stream",
     "text": [
      "[0.4 1.2 2.2 1.7 0.5 0.3 1.3 0.9 3.4 3.2 3.2 2.7 3.5 3.3 3.3 1.9 1.3 3.3\n",
      " 3.9]\n",
      "(19,)\n"
     ]
    },
    {
     "data": {
      "text/plain": [
       "<Figure size 640x480 with 1 Axes>"
      ],
      "image/png": "[encoded data removed]"
     },
     "metadata": {},
     "output_type": "display_data"
    }
   ],
   "execution_count": 48
  },
  {
   "cell_type": "markdown",
   "source": [
    "## Definition of knowledge base\n",
    "\n",
    "First, we need to define a membership predicate $C(x,l)$, where $x$ is an individual (point) and $l$ is a one-hot label\n",
    "denoting one of the two classes (10 for class $A$ and 01 for class $B$).\n",
    "\n",
    "$C$ is approximated by a simple MLP (Multi-Layer Perceptron). The last layer, that computes probabilities per class, uses a `softmax` activation, ensuring that the classes are mutually-exclusive.\n",
    "\n",
    "We define the knowledge base $\\mathcal{K}$ with the following rules:\n",
    "\\begin{align}\n",
    "& C(a,l_a)\\\\\n",
    "& C(b,l_b)\\\\\n",
    "\\forall x_1,x_2,l\\ \\big(\\mathrm{Sim}(x_1,x_2) & \\rightarrow \\big(C(x_1,l)\\leftrightarrow C(x_2,l)\\big)\\big)\n",
    "\\end{align}\n",
    "\n",
    "where:\n",
    "- $a$ and $b$ the two individuals already classified;\n",
    "- $x_1$ and $x_2$ are variables ranging over all individuals;\n",
    "- $l_a$ and $l_b$ are the one-hot labels for $A$ and $B$;\n",
    "- $l$ is a variable ranging over the labels;\n",
    "- $\\mathrm{Sim}$ is a predicate measuring similarity between two points and defined as $\\mathcal{G}(\\mathrm{Sim}):\\vec{u},\\vec{v}\\mapsto \\exp(-\\|\\vec{u}-\\vec{v} \\|^2)$.\n",
    "\n",
    "The objective is to learn the predicate $C$ in such a way to maximize the satisfaction of $\\mathcal{K}$.\n",
    "\n",
    "If $\\theta$ denotes the set of trainable parameters, the task is:\n",
    "\\begin{align}\n",
    "\\theta^\\ast = \\mathrm{argmax}_{\\theta\\in\\Theta}\\ \\mathrm{SatAgg}_{\\phi\\in\\mathcal{K}} \\text{ } \\mathcal{G}_{\\theta}(\\phi)\n",
    "\\end{align}\n",
    "\n",
    "where $\\mathrm{SatAgg}$ is an operator that aggregates the truth values of the formulas in $\\mathcal{K}$\n",
    "(if there are more than one formula).\n",
    "\n",
    "In order to define the knowledge base in LTN, we need to define our predicates, variables, and constants first.\n",
    "\n",
    "In the\n",
    "following, the names of predicates, variables, and constants are the same used in the problem formulation above."
   ],
   "metadata": {
    "collapsed": false
   }
  },
  {
   "metadata": {},
   "cell_type": "markdown",
   "source": [
    "## 知识库的定义（其中相关的公式、符号解释在3.md的## 2中）\n",
    "\n",
    "首先，我们需要定义一个成员谓词 $C(x, l)$，其中 $x$ 是一个个体（点），$l$ 是一个表示两类之一的独热标签（10表示类 $A$ 和01表示类 $B$）。\n",
    "\n",
    "$C$ 由一个简单的多层感知器（MLP）近似。最后一层使用 `softmax` 激活函数来计算每类的概率，确保类别是互斥的。\n",
    "\n",
    "我们通过以下规则定义知识库 $\\mathcal{K}$：\n",
    "\\begin{align}\n",
    "& C(a, l_a) \\\\\n",
    "& C(b, l_b) \\\\\n",
    "\\forall x_1, x_2, l\\ \\big(\\mathrm{Sim}(x_1, x_2) & \\rightarrow \\big(C(x_1, l) \\leftrightarrow C(x_2, l)\\big)\\big)\n",
    "\\end{align}\n",
    "\n",
    "其中：\n",
    "- $a$ 和 $b$ 是已经分类的两个个体；\n",
    "- $x_1$ 和 $x_2$ 是在所有个体上范围的变量；\n",
    "- $l_a$ 和 $l_b$ 是 $A$ 和 $B$ 的独热标签；\n",
    "- $l$ 是在标签上范围的变量；\n",
    "- $\\mathrm{Sim}$ 是一个度量两个点之间相似性的谓词，定义为 $\\mathcal{G}(\\mathrm{Sim}):\\vec{u}, \\vec{v} \\mapsto \\exp(-\\|\\vec{u} - \\vec{v}\\|^2)$。\n",
    "\n",
    "目标是学习谓词 $C$，以最大化 $\\mathcal{K}$ 的满足度。\n",
    "\n",
    "如果 $\\theta$ 表示可训练参数的集合，则任务是：\n",
    "\\begin{align}\n",
    "\\theta^\\ast = \\mathrm{argmax}_{\\theta \\in \\Theta}\\ \\mathrm{SatAgg}_{\\phi \\in \\mathcal{K}} \\text{ } \\mathcal{G}_{\\theta}(\\phi)\n",
    "\\end{align}\n",
    "\n",
    "其中 $\\mathrm{SatAgg}$ 是一个聚合 $\\mathcal{K}$ 中公式真值的操作符（如果有多个公式）。\n",
    "\n",
    "为了在 LTN 中定义知识库，我们需要首先定义我们的谓词、变量和常量。\n",
    "\n",
    "在下面的定义中，谓词、变量和常量的名称与上述问题表述中使用的名称相同。"
   ]
  },
  {
   "cell_type": "code",
   "source": [
    "# Predicate C # 谓词C\n",
    "class ModelC(torch.nn.Module):\n",
    "    def __init__(self):\n",
    "        super(ModelC, self).__init__()\n",
    "        self.elu = torch.nn.ELU()\n",
    "        self.softmax = torch.nn.Softmax(dim=1)\n",
    "        self.dense1 = torch.nn.Linear(2, 5)\n",
    "        self.dense2 = torch.nn.Linear(5, 5)\n",
    "        self.dense3 = torch.nn.Linear(5, 2)\n",
    "\n",
    "    def forward(self, x, l):\n",
    "        \"\"\"x: point, l: one-hot label\"\"\" # x: 点, l: one-hot标签\n",
    "        x = self.elu(self.dense1(x))\n",
    "        x = self.elu(self.dense2(x))\n",
    "        prob = self.softmax(self.dense3(x))\n",
    "        return torch.sum(prob * l, dim=1)\n",
    "\n",
    "# C = ltn.Predicate(ModelC()) # 原来的写法会报错\n",
    "C = ltn.Predicate(ModelC().to(ltn.device))\n",
    "\n",
    "# Predicate Sim # 谓词Sim\n",
    "Sim = ltn.Predicate(func=lambda u, v: torch.exp(-1. * torch.sqrt(torch.sum(torch.square(u - v), dim=1)))) # 这里这一个谓词感觉和离散里面的谓词不一样，它就是通过一个函数，输出两个向量的相似度，而且应该是不可学习的吧。不过或许也可以理解成是两个向量相似的一个置信度，这样的话，这个谓词的含义就是“这两个向量相似”，而这个谓词的置信度就是输出的值。"
   ],
   "metadata": {
    "collapsed": false,
    "pycharm": {
     "name": "#%%\n"
    },
    "ExecuteTime": {
     "end_time": "2024-08-05T06:32:00.109480Z",
     "start_time": "2024-08-05T06:32:00.095440Z"
    }
   },
   "outputs": [],
   "execution_count": 49
  },
  {
   "metadata": {},
   "cell_type": "markdown",
   "source": [
    "### 谓词Sim的定义\n",
    "\n",
    "```python\n",
    "# Predicate Sim # 谓词Sim\n",
    "Sim = ltn.Predicate(func=lambda u, v: torch.exp(-1. * torch.sqrt(torch.sum(torch.square(u - v), dim=1))))\n",
    "```\n",
    "\n",
    "#### 详细解释\n",
    "\n",
    "1. **定义谓词 `Sim`**：\n",
    "   - 使用 `lambda` 函数定义相似性度量函数。\n",
    "   - 函数输入为两个向量 `u` 和 `v`，输出为相似性度量值。\n",
    "   ```python\n",
    "   func=lambda u, v: torch.exp(-1. * torch.sqrt(torch.sum(torch.square(u - v), dim=1)))\n",
    "   ```\n",
    "   - 计算两个向量之间的欧氏距离的平方和，并取负的指数：\n",
    "     - `torch.square(u - v)`：计算两个向量的差的平方。\n",
    "     - `torch.sum(..., dim=1)`：对每个向量对的平方差求和。\n",
    "     - `torch.sqrt(...)`：取平方和的平方根。\n",
    "     - `torch.exp(-1. * ...)`：取负的指数。\n",
    "\n",
    "2. **使用 `ltn.Predicate` 包装成谓词 `Sim`**：\n",
    "   ```python\n",
    "   Sim = ltn.Predicate(func=...)\n",
    "   ```\n",
    "\n",
    "通过这种方式，我们定义了两个谓词 `C` 和 `Sim`，分别用于表示分类和相似性度量。希望这些解释能帮助您理解代码的逻辑。如果还有其他问题，请随时提问。"
   ]
  },
  {
   "cell_type": "code",
   "source": [
    "# variables and constants # 变量和常量\n",
    "x1 = ltn.Variable(\"x1\", torch.tensor(points)) # x1里面有19个点\n",
    "x2 = ltn.Variable(\"x2\", torch.tensor(points)) # x2里面有19个点\n",
    "a = ltn.Constant(torch.tensor([3.3, 2.5]))\n",
    "b = ltn.Constant(torch.tensor([1.3, 1.1]))\n",
    "l_a = ltn.Constant(torch.tensor([1, 0]))\n",
    "l_b = ltn.Constant(torch.tensor([0, 1]))\n",
    "l = ltn.Variable(\"l\", torch.tensor([[1, 0], [0, 1]]))"
   ],
   "metadata": {
    "collapsed": false,
    "pycharm": {
     "name": "#%%\n"
    },
    "ExecuteTime": {
     "end_time": "2024-08-05T06:47:09.458465Z",
     "start_time": "2024-08-05T06:47:09.425945Z"
    }
   },
   "outputs": [],
   "execution_count": 50
  },
  {
   "cell_type": "markdown",
   "source": [
    "In the following, we plot the similarity of each point in the dataset with the point $a$. Lower the similarity, thinner the line\n",
    "which connect the points."
   ],
   "metadata": {
    "collapsed": false,
    "pycharm": {
     "name": "#%% md\n"
    }
   }
  },
  {
   "metadata": {},
   "cell_type": "markdown",
   "source": "下面，我们绘制数据集中每个点与点 $a$ 的相似度。相似度越低，连接点的线条越细。"
  },
  {
   "cell_type": "code",
   "source": [
    "similarities_to_a = Sim(x1, a).value\n",
    "\n",
    "print(\"similarities_to_a:\\n\", similarities_to_a)\n",
    "print(\"similarities_to_a.shape:\\n\", similarities_to_a.shape)\n",
    "\n",
    "fig, ax = plt.subplots()\n",
    "ax.set_xlim(0, 4)\n",
    "ax.set_ylim(0, 4)\n",
    "ax.scatter(points[:,0], points[:,1], color=\"black\")\n",
    "\n",
    "# ax.scatter(a.value[0], a.value[1], color=\"blue\") # 原来的写法会报错\n",
    "ax.scatter(a.value.detach().cpu()[0], a.value.detach().cpu()[1], color=\"blue\")\n",
    "\n",
    "ax.set_title(\"Illustrating the similarities of each point to a\")\n",
    "# for i, sim_to_a in enumerate(similarities_to_a): # 原来的写法会报错\n",
    "#     plt.plot([points[i,0], a.value[0]], [points[i,1],a.value[1]], alpha=float(sim_to_a.numpy()), color=\"blue\")\n",
    "\n",
    "for i, sim_to_a in enumerate(similarities_to_a):\n",
    "    plt.plot([points[i,0], a.value.detach().cpu()[0]], [points[i,1],a.value.detach().cpu()[1]], alpha=float(sim_to_a.detach().cpu().numpy()), color=\"blue\")\n",
    "# enumerate(similarities_to_a)：枚举 similarities_to_a，获取每个相似性值及其索引。\n",
    "# plt.plot(连线的 x 坐标起点和终点,连线的 y 坐标起点和终点,设置线条的透明度,设置线条的颜色)\n",
    "\n",
    "print(\"type(enumerate(similarities_to_a)):\\n\", type(enumerate(similarities_to_a))) #  <class 'enumerate'>\n",
    "print(\"enumerate(similarities_to_a):\\n\", enumerate(similarities_to_a)) #  <enumerate object at 0x000001B1C12F5350>\n",
    "print(\"enumerate(similarities_to_a):\\n\", list(enumerate(similarities_to_a)))\n",
    "\n",
    "plt.show();"
   ],
   "metadata": {
    "collapsed": false,
    "pycharm": {
     "name": "#%%\n"
    },
    "ExecuteTime": {
     "end_time": "2024-08-05T06:47:31.268512Z",
     "start_time": "2024-08-05T06:47:31.057781Z"
    }
   },
   "outputs": [
    {
     "name": "stdout",
     "output_type": "stream",
     "text": [
      "similarities_to_a:\n",
      " tensor([0.0263, 0.0478, 0.1963, 0.1116, 0.0320, 0.0423, 0.0870, 0.0797, 0.4465,\n",
      "        0.4465, 0.7996, 0.4579, 0.3607, 1.0000, 0.2466, 0.1582, 0.1069, 0.2466,\n",
      "        0.2614], device='cuda:0')\n",
      "similarities_to_a.shape:\n",
      " torch.Size([19])\n",
      "type(enumerate(similarities_to_a)):\n",
      " <class 'enumerate'>\n",
      "enumerate(similarities_to_a):\n",
      " <enumerate object at 0x000001B1D8219DF0>\n",
      "enumerate(similarities_to_a):\n",
      " [(0, tensor(0.0263, device='cuda:0')), (1, tensor(0.0478, device='cuda:0')), (2, tensor(0.1963, device='cuda:0')), (3, tensor(0.1116, device='cuda:0')), (4, tensor(0.0320, device='cuda:0')), (5, tensor(0.0423, device='cuda:0')), (6, tensor(0.0870, device='cuda:0')), (7, tensor(0.0797, device='cuda:0')), (8, tensor(0.4465, device='cuda:0')), (9, tensor(0.4465, device='cuda:0')), (10, tensor(0.7996, device='cuda:0')), (11, tensor(0.4579, device='cuda:0')), (12, tensor(0.3607, device='cuda:0')), (13, tensor(1., device='cuda:0')), (14, tensor(0.2466, device='cuda:0')), (15, tensor(0.1582, device='cuda:0')), (16, tensor(0.1069, device='cuda:0')), (17, tensor(0.2466, device='cuda:0')), (18, tensor(0.2614, device='cuda:0'))]\n"
     ]
    },
    {
     "data": {
      "text/plain": [
       "<Figure size 640x480 with 1 Axes>"
      ],
      "image/png": "[encoded data removed]"
     },
     "metadata": {},
     "output_type": "display_data"
    }
   ],
   "execution_count": 53
  },
  {
   "metadata": {},
   "cell_type": "markdown",
   "source": [
    "plt.plot(...)：绘制每个点与𝑎之间的连线：\n",
    "[points[i,0], a.value.detach().cpu()[0]]：连线的 x 坐标起点和终点。\n",
    "[points[i,1], a.value.detach().cpu()[1]]：连线的 y 坐标起点和终点。\n",
    "alpha=float(sim_to_a.detach().cpu().numpy())：根据相似性值设置透明度，使相似性越高的连线越不透明。"
   ]
  },
  {
   "cell_type": "markdown",
   "source": [
    "For the connectives, we use the stable \"product configuration\" explained in the complementary notebook (2b-grounding-connectives.ipynb).\n",
    "\n",
    "In particular, the operator for equivalence ($p \\leftrightarrow q$) is implemented in LTN as $(p \\rightarrow q)\\land(q \\rightarrow p)$, using\n",
    "one operator for conjunction and one operator for implication. Such operator is available at `ltn.fuzzy_ops.Equiv`."
   ],
   "metadata": {
    "collapsed": false
   }
  },
  {
   "metadata": {},
   "cell_type": "markdown",
   "source": [
    "对于连结词，我们使用在补充笔记本 (2b-grounding-connectives.ipynb) 中解释的稳定 \"乘积配置\"。\n",
    "\n",
    "特别地，等价 ($p \\leftrightarrow q$) 运算符在 LTN 中实现为 $(p \\rightarrow q) \\land (q \\rightarrow p)$，使用一个用于合取的运算符和一个用于蕴涵的运算符。这样的运算符在 `ltn.fuzzy_ops.Equiv` 中可用。"
   ]
  },
  {
   "cell_type": "code",
   "source": [
    "Not = ltn.Connective(ltn.fuzzy_ops.NotStandard())\n",
    "And = ltn.Connective(ltn.fuzzy_ops.AndProd())\n",
    "Or = ltn.Connective(ltn.fuzzy_ops.OrProbSum())\n",
    "Implies = ltn.Connective(ltn.fuzzy_ops.ImpliesReichenbach())\n",
    "Equiv = ltn.Connective(ltn.fuzzy_ops.Equiv(ltn.fuzzy_ops.AndProd(), ltn.fuzzy_ops.ImpliesReichenbach())) # 已经确定的是，等价是通过蕴涵和合取来实现的，但是具体的数字的计算，可以有多种方式，这里选择的蕴含和合取是AndProd和ImpliesReichenbach。\n",
    "Forall = ltn.Quantifier(ltn.fuzzy_ops.AggregPMeanError(p=2), quantifier=\"f\")\n",
    "Exists = ltn.Quantifier(ltn.fuzzy_ops.AggregPMean(p=6), quantifier=\"e\")"
   ],
   "metadata": {
    "collapsed": false,
    "pycharm": {
     "name": "#%%\n"
    },
    "ExecuteTime": {
     "end_time": "2024-08-05T07:19:05.364969Z",
     "start_time": "2024-08-05T07:19:05.340879Z"
    }
   },
   "outputs": [],
   "execution_count": 54
  },
  {
   "cell_type": "markdown",
   "source": [
    "Now that we have defined our predicates, variables, and constants, we are ready for defining the knowledge base.\n",
    "\n",
    "If there are several closed formulas in $\\mathcal{K}$, their truth values need to be aggregated, and this is what the $\\mathrm{SatAgg}$\n",
    "operator does. Currently, $\\mathrm{SatAgg}$ supports only closed formulas.\n",
    "\n",
    "To be clear, a closed formula is a formula which does not have free variables appearing in it,\n",
    "namely all the variables are quantified.\n",
    "\n",
    "In LTN, the $\\mathrm{SatAgg}$ operator is available at `ltn.fuzzy_ops.SatAgg`. The constructor `SatAgg()` takes as input\n",
    "an aggregation operator, which is then used to aggregate the inputs when the operator is invoked. Specifically, the operator takes as\n",
    "input a list of truth values of closed formulas and returns the aggregation of these values using the selected aggregator.\n",
    "\n",
    "As `SatAgg` aggregator, we recommend using the generalized mean inspired operator `pMeanError`, already used to implement $\\forall$. For this reason, the constructor\n",
    "`SatAgg()` defines the operator using the `pMeanError`.\n",
    "The hyper-parameter $p$ again allows flexibility in how strict the formula aggregation is ($p = 1$ corresponds to `mean`; $p \\to +\\inf$ corresponds to `min`).\n",
    "\n",
    "In the following, we define the `SatAgg` operator and a training loop to learn our LTN model.\n",
    "\n",
    "As shown, the `SatAgg` operator takes as input the formulas in our knowledge base and returns a truth value which is\n",
    "interpreted as the satisfaction level of the entire knowledge base. Since we want to maximize this number, we need to\n",
    "minimize $1 - SatAgg$, using gradient descent.\n",
    "\n",
    "Notice that it is not needed to access the `value` attribute before giving the formulas to the `SatAgg` operator. This is because\n",
    "the operator accepts `LTNObject` instances in input.\n",
    "\n",
    "In the forward phase of the LTN, the truth values of the three formulas are computed, while in the backward phase the weights\n",
    "of predicate $C$ are changed in such a way to minimize the loss function."
   ],
   "metadata": {
    "collapsed": false
   }
  },
  {
   "metadata": {},
   "cell_type": "markdown",
   "source": [
    "现在我们已经定义了我们的谓词、变量和常量，我们可以定义知识库了。\n",
    "\n",
    "如果在 $\\mathcal{K}$ 中有多个闭合公式，它们的真值需要聚合，这就是 $\\mathrm{SatAgg}$ 操作符的作用。目前，$\\mathrm{SatAgg}$ 仅支持闭合公式。\n",
    "\n",
    "需要明确的是，闭合公式是指其中没有自由变量出现的公式，即所有变量都是量化的。\n",
    "\n",
    "在 LTN 中，$\\mathrm{SatAgg}$ 操作符可以在 `ltn.fuzzy_ops.SatAgg` 中找到。构造函数 `SatAgg()` 接受一个聚合操作符作为输入，然后在调用该操作符时使用该聚合操作符聚合输入。具体来说，该操作符接受一个闭合公式真值列表作为输入，并使用选定的聚合器返回这些值的聚合结果。\n",
    "\n",
    "作为 `SatAgg` 聚合器，我们建议使用通用均值启发的操作符 `pMeanError`，它已经用于实现 $\\forall$。因此，构造函数 `SatAgg()` 使用 `pMeanError` 定义了该操作符。\n",
    "超参数 $p$ 再次允许公式聚合的严格程度具有灵活性（$p = 1$ 对应于 `mean`；$p \\to +\\infty$ 对应于 `min`）。\n",
    "\n",
    "接下来，我们定义 `SatAgg` 操作符和一个训练循环来学习我们的 LTN 模型。\n",
    "\n",
    "如图所示，`SatAgg` 操作符以我们的知识库中的公式作为输入，并返回一个真值，该真值被解释为整个知识库的满意度。由于我们希望最大化这个数值，我们需要使用梯度下降最小化 $1 - SatAgg$。\n",
    "\n",
    "请注意，在将公式传递给 `SatAgg` 操作符之前，不需要访问 `value` 属性。这是因为该操作符接受 `LTNObject` 实例作为输入。\n",
    "\n",
    "在 LTN 的前向阶段，计算三个公式的真值，而在反向阶段，谓词 $C$ 的权重会发生变化，以最小化损失函数。"
   ]
  },
  {
   "cell_type": "code",
   "source": [
    "# by default, SatAgg uses the pMeanError # 默认情况下，SatAgg使用pMeanError\n",
    "sat_agg = ltn.fuzzy_ops.SatAgg() # todo:什么是闭合公式（closed formula）\n",
    "\n",
    "# we need to learn the parameters of the predicate C # 我们需要学习谓词C的参数\n",
    "optimizer = torch.optim.Adam(C.parameters(), lr=0.001)\n",
    "\n",
    "for epoch in range(2000):\n",
    "    optimizer.zero_grad()\n",
    "    loss = 1. - sat_agg(\n",
    "        C(a, l_a),\n",
    "        C(b, l_b),\n",
    "        Forall([x1, x2, l], Implies(Sim(x1, x2), Equiv(C(x1, l), C(x2, l))))\n",
    "    )\n",
    "    loss.backward()\n",
    "    optimizer.step()\n",
    "    if epoch%200 == 0:\n",
    "        print(\"Epoch %d: Sat Level %.3f \"%(epoch, 1 - loss.item()))\n",
    "print(\"Training finished at Epoch %d with Sat Level %.3f\" %(epoch, 1 - loss.item()))"
   ],
   "metadata": {
    "collapsed": false,
    "pycharm": {
     "name": "#%%\n"
    },
    "ExecuteTime": {
     "end_time": "2024-08-05T09:28:07.956610Z",
     "start_time": "2024-08-05T09:27:39.035650Z"
    }
   },
   "outputs": [
    {
     "name": "stdout",
     "output_type": "stream",
     "text": [
      "Epoch 0: Sat Level 0.576 \n",
      "Epoch 200: Sat Level 0.764 \n",
      "Epoch 400: Sat Level 0.949 \n",
      "Epoch 600: Sat Level 0.957 \n",
      "Epoch 800: Sat Level 0.959 \n",
      "Epoch 1000: Sat Level 0.959 \n",
      "Epoch 1200: Sat Level 0.959 \n",
      "Epoch 1400: Sat Level 0.959 \n",
      "Epoch 1600: Sat Level 0.959 \n",
      "Epoch 1800: Sat Level 0.959 \n",
      "Training finished at Epoch 1999 with Sat Level 0.959\n"
     ]
    }
   ],
   "execution_count": 55
  },
  {
   "cell_type": "markdown",
   "source": [
    "After a few epochs, the system has learned to identify samples close to the point $a$ (resp. $b$) as belonging to class\n",
    "$A$ (resp. $B$) based on the rules of the knowledge base.\n",
    "\n",
    "In the following, we draw a plot showing that our LTN has been able to learn how to classify\n",
    "the data points using the satisfaction of a knowledge base as an objective. The colour is brighter when predicate\n",
    "$C$ is more satisfied. On the left, we see that $C$ correctly classifies points of class $A$, while on\n",
    "the right we see it correctly classifies points of class $B$."
   ],
   "metadata": {
    "collapsed": false
   }
  },
  {
   "metadata": {},
   "cell_type": "markdown",
   "source": [
    "以下是您提供的内容的中文翻译：\n",
    "\n",
    "经过几个训练周期后，系统已经学会根据知识库的规则，将接近点 $a$（或 $b$）的样本识别为属于类 $A$（或 $B$）。\n",
    "\n",
    "在下面的内容中，我们绘制了一张图，显示我们的 LTN（逻辑张量网络）已经学会如何使用知识库的满足度作为目标来对数据点进行分类。颜色越亮，表示谓词 $C$ 的满足度越高。在左图中，我们看到 $C$ 正确分类了类 $A$ 的点，而在右图中，我们看到 $C$ 正确分类了类 $B$ 的点。"
   ]
  },
  {
   "cell_type": "code",
   "source": [
    "fig = plt.figure(figsize=(10, 3))\n",
    "fig.add_subplot(1, 2, 1)\n",
    "# plt.scatter(x1.value[:, 0], x1.value[:, 1], c=C(x1, l_a).value.detach().numpy(), vmin=0, vmax=1) # 原来的写法会报错\n",
    "plt.scatter(x1.value.detach().cpu()[:, 0], x1.value.detach().cpu()[:, 1], c=C(x1, l_a).value.detach().cpu().numpy(), vmin=0, vmax=1)\n",
    "plt.title(\"C(x,l_a)\")\n",
    "plt.colorbar()\n",
    "fig.add_subplot(1, 2, 2)\n",
    "# plt.scatter(x1.value[:, 0], x1.value[:, 1], c=C(x1, l_b).value.detach().numpy(), vmin=0, vmax=1) # 原来的写法会报错\n",
    "plt.scatter(x1.value.detach().cpu()[:, 0], x1.value.detach().cpu()[:, 1], c=C(x1, l_b).value.detach().cpu().numpy(), vmin=0, vmax=1)\n",
    "plt.title(\"C(x,l_b)\")\n",
    "plt.colorbar()\n",
    "plt.show();"
   ],
   "metadata": {
    "collapsed": false,
    "pycharm": {
     "name": "#%%\n"
    }
   },
   "outputs": [],
   "execution_count": null
  },
  {
   "cell_type": "markdown",
   "source": [
    "## Special Cases\n",
    "\n",
    "### Variables grounded by batch\n",
    "\n",
    "Usually, in the majority of learning tasks, we work with batches of data to make learning efficient.\n",
    "\n",
    "In LTN, working with batches of data is straightforward. It is enough to ground the variables with different values\n",
    "at each training step. In PyTorch, these values are usually returned by a `DataLoader`.\n",
    "\n",
    "Let's see the same example with a bigger dataset (10000 points) which requires subdividing it in mini-batches.\n",
    "\n",
    "In the following, we plot the dataset. The dataset has been randomly generated. Points $a$ and $b$ have been selected\n",
    "in such a way they are enough distant between each other."
   ],
   "metadata": {
    "collapsed": false
   }
  },
  {
   "metadata": {},
   "cell_type": "markdown",
   "source": [
    "## 特殊情况\n",
    "\n",
    "### 按批次赋值的变量\n",
    "\n",
    "通常，在大多数学习任务中，我们处理数据批次以提高学习效率。\n",
    "\n",
    "在 LTN 中，处理数据批次非常简单。只需在每个训练步骤中用不同的值对变量进行赋值即可。在 PyTorch 中，这些值通常由 `DataLoader` 返回。\n",
    "\n",
    "让我们来看一个具有更大数据集（10000 个点）的示例，该数据集需要将其分为小批次。\n",
    "\n",
    "下面，我们绘制了数据集。该数据集是随机生成的。点 $a$ 和 $b$ 被选择为彼此之间有足够的距离。"
   ]
  },
  {
   "cell_type": "code",
   "source": [
    "r1 = 0\n",
    "r2 = 4\n",
    "points = (r1 - r2) * torch.rand((10000, 2)) + r2\n",
    "points[-1] = torch.tensor([3., 3.])\n",
    "points[-2] = torch.tensor([1., 1.])\n",
    "points_a = torch.tensor([3., 3.])\n",
    "points_b = torch.tensor([1., 1.])\n",
    "a = ltn.Constant(torch.tensor([3., 3.]))\n",
    "b = ltn.Constant(torch.tensor([1., 1.]))\n",
    "\n",
    "fig, ax = plt.subplots()\n",
    "ax.set_xlim(0, 4)\n",
    "ax.set_ylim(0, 4)\n",
    "ax.scatter(points[:,0], points[:,1], color=\"black\", label=\"unknown\")\n",
    "ax.scatter(point_a[0], point_a[1], color=\"blue\", label=\"a\")\n",
    "ax.scatter(point_b[0], point_b[1], color=\"red\", label=\"b\")\n",
    "ax.set_title(\"Dataset of individuals\")\n",
    "plt.legend();"
   ],
   "metadata": {
    "collapsed": false,
    "pycharm": {
     "name": "#%%\n"
    }
   },
   "outputs": [],
   "execution_count": null
  },
  {
   "cell_type": "markdown",
   "source": [
    "In the following, we define a data loader which takes as input the entire dataset and returns batches of data points\n",
    "fetched from the dataset. It is possible to decide a batch size and whether to shuffle data.\n",
    "\n",
    "Then, as anticipated before, it is enough to add some lines of code that iterate over the batches and ground the variables\n",
    "with the new data points contained in the batches.\n"
   ],
   "metadata": {
    "collapsed": false,
    "pycharm": {
     "name": "#%% md\n"
    }
   }
  },
  {
   "metadata": {},
   "cell_type": "markdown",
   "source": [
    "以下是内容的中文翻译：\n",
    "\n",
    "接下来，我们定义一个数据加载器，它将整个数据集作为输入并返回从数据集中获取的数据点批次。可以选择批次大小以及是否对数据进行随机打乱。\n",
    "\n",
    "然后，如前所述，只需添加几行代码来迭代这些批次，并使用批次中包含的新数据点来绑定变量。"
   ]
  },
  {
   "cell_type": "code",
   "source": [
    "# we define C again to re-initialize its weights # 我们再次定义C以重新初始化其权重\n",
    "C = ltn.Predicate(ModelC())\n",
    "\n",
    "# data loader which creates the batches # 数据加载器，用于创建批次\n",
    "class DataLoader:\n",
    "    def __init__(self,\n",
    "                 dataset,\n",
    "                 batch_size=1,\n",
    "                 shuffle=True):\n",
    "        self.data = dataset\n",
    "        self.batch_size = batch_size\n",
    "        self.shuffle = shuffle\n",
    "\n",
    "    def __len__(self):\n",
    "        return int(np.ceil(self.data.shape[0] / self.batch_size))\n",
    "\n",
    "    def __iter__(self):\n",
    "        n = self.data.shape[0]\n",
    "        idxlist = list(range(n))\n",
    "        if self.shuffle:\n",
    "            np.random.shuffle(idxlist)\n",
    "\n",
    "        for _, start_idx in enumerate(range(0, n, self.batch_size)):\n",
    "            end_idx = min(start_idx + self.batch_size, n)\n",
    "            batch_points = self.data[idxlist[start_idx:end_idx]]\n",
    "\n",
    "            yield batch_points\n",
    "\n",
    "train_loader = DataLoader(points, 512)\n",
    "\n",
    "# by default, SatAgg uses the pMeanError # 默认情况下，SatAgg使用pMeanError\n",
    "sat_agg = ltn.fuzzy_ops.SatAgg()\n",
    "\n",
    "# we need to learn the parameters of the predicate C # 我们需要学习谓词C的参数\n",
    "optimizer = torch.optim.Adam(C.parameters(), lr=0.001)\n",
    "\n",
    "for epoch in range(100):\n",
    "    for (batch_idx, (batch_points)) in enumerate(train_loader):\n",
    "        x1 = ltn.Variable(\"x1\", batch_points)\n",
    "        x2 = ltn.Variable(\"x2\", batch_points)\n",
    "        optimizer.zero_grad()\n",
    "        loss = 1. - sat_agg(\n",
    "            C(a, l_a),\n",
    "            C(b, l_b),\n",
    "            Forall([x1, x2, l], Implies(Sim(x1, x2), Equiv(C(x1, l), C(x2, l))))\n",
    "        )\n",
    "        loss.backward()\n",
    "        optimizer.step()\n",
    "    if epoch%10 == 0:\n",
    "        print(\"Epoch %d: Sat Level %.3f \"%(epoch, 1 - loss.item()))\n",
    "\n",
    "print(\"Training finished at Epoch %d with Sat Level %.3f\" %(epoch, 1 - loss.item()))"
   ],
   "metadata": {
    "collapsed": false,
    "pycharm": {
     "name": "#%%\n"
    }
   },
   "outputs": [],
   "execution_count": null
  },
  {
   "cell_type": "markdown",
   "source": [
    "It is possible to observe that just after 20 epochs, LTN has learned to correctly classify the examples.\n",
    "\n",
    "Let's see some plot as we did for the previous example.\n",
    "\n",
    "As shown, LTN has learned how to correctly classify the data points. Also, it is possible to observe that there are some points\n",
    "in the middle which are more difficult to classify. This is intuitive since their distance from points $a$ and $b$ is similar, so LTN\n",
    "does not know which is the correct class to assign to them."
   ],
   "metadata": {
    "collapsed": false
   }
  },
  {
   "metadata": {},
   "cell_type": "markdown",
   "source": [
    "当然，以下是您提供内容的中文翻译：\n",
    "\n",
    "经过20个周期后，可以观察到，LTN已经学会了正确分类这些示例。\n",
    "\n",
    "让我们像前面的例子一样看看一些图表。\n",
    "\n",
    "如图所示，LTN已经学会了如何正确分类数据点。此外，可以看到中间有一些点比较难以分类。这很直观，因为这些点与点$a$和$b$的距离相似，所以LTN不知道应该将它们分配到哪个正确的类别。"
   ]
  },
  {
   "cell_type": "code",
   "source": [
    "x1 = ltn.Variable(\"x1\", points)\n",
    "x2 = ltn.Variable(\"x2\", points)\n",
    "fig = plt.figure(figsize=(10, 3))\n",
    "fig.add_subplot(1, 2, 1)\n",
    "plt.scatter(x1.value[:, 0], x1.value[:, 1], c=C(x1, l_a).value.detach().numpy(), vmin=0, vmax=1)\n",
    "plt.title(\"C(x,l_a)\")\n",
    "plt.colorbar()\n",
    "fig.add_subplot(1, 2, 2)\n",
    "plt.scatter(x1.value[:, 0], x1.value[:, 1], c=C(x1, l_b).value.detach().numpy(), vmin=0, vmax=1)\n",
    "plt.title(\"C(x,l_b)\")\n",
    "plt.colorbar()\n",
    "plt.show();"
   ],
   "metadata": {
    "collapsed": false,
    "pycharm": {
     "name": "#%%\n"
    }
   },
   "outputs": [],
   "execution_count": null
  }
 ],
 "metadata": {
  "kernelspec": {
   "display_name": "Python 3",
   "language": "python",
   "name": "python3"
  },
  "language_info": {
   "codemirror_mode": {
    "name": "ipython",
    "version": 2
   },
   "file_extension": ".py",
   "mimetype": "text/x-python",
   "name": "python",
   "nbconvert_exporter": "python",
   "pygments_lexer": "ipython2",
   "version": "2.7.6"
  }
 },
 "nbformat": 4,
 "nbformat_minor": 0
}
